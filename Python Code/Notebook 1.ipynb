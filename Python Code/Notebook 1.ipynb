{
 "cells": [
  {
   "cell_type": "markdown",
   "id": "e5e79ea0",
   "metadata": {},
   "source": [
    "### Traffic Flow analysis and forecasting using Machine Learning and Deep Learning Techniques\n",
    "\n",
    "The data used for this research comes from a project called the cabspotting project. Specifically, this dataset contains about 11,000,000 GPS data of various taxis (Yellow Cab Vehicles) in the San Francisco, California area. The whole data sampling occurred in May 2008.\n",
    "\n",
    "<b>You can read more about the dataset in the following link: </b>https://stamen.com/work/cabspotting/"
   ]
  },
  {
   "cell_type": "markdown",
   "id": "b24e6ef9",
   "metadata": {},
   "source": [
    "### This notebook process the initial dataset, in order to extract usefull information from it. \n",
    "The rest of this notebook contains the code that we developed, in order to preprocess the dataset."
   ]
  },
  {
   "cell_type": "code",
   "execution_count": 1,
   "id": "b028b0fe",
   "metadata": {},
   "outputs": [
    {
     "name": "stdout",
     "output_type": "stream",
     "text": [
      "time: 0 ns (started: 2023-08-10 21:19:52 +03:00)\n"
     ]
    }
   ],
   "source": [
    "# measure execution time\n",
    "%load_ext autotime"
   ]
  },
  {
   "cell_type": "code",
   "execution_count": 2,
   "id": "b8e615b6",
   "metadata": {},
   "outputs": [
    {
     "name": "stdout",
     "output_type": "stream",
     "text": [
      "time: 9.2 s (started: 2023-08-10 21:19:52 +03:00)\n"
     ]
    }
   ],
   "source": [
    "# import basic libraries\n",
    "import os\n",
    "import json\n",
    "import random\n",
    "import requests\n",
    "\n",
    "import numpy as np\n",
    "import pandas as pd\n",
    "\n",
    "import seaborn as sns\n",
    "import matplotlib.pyplot as plt\n",
    "\n",
    "from datetime import datetime, timedelta\n",
    "\n",
    "%matplotlib inline"
   ]
  },
  {
   "cell_type": "markdown",
   "id": "a47d0cd6",
   "metadata": {},
   "source": [
    "### Phase 1: Preprocess the dataset\n",
    "In this step, the following commands are executed:\n",
    "- Add Taxi ID on the data\n",
    "- Gather all the data in one txt file\n",
    "- Convert time information to timestamp\n",
    "- Split trajectories, based in the time field\n",
    "- Delete unnecessary columns\n",
    "- Map Matching using Valhalla Meili API"
   ]
  },
  {
   "cell_type": "markdown",
   "id": "b98c6d73",
   "metadata": {},
   "source": [
    "#### Step 1: Preprocess the initial dataset with raw data"
   ]
  },
  {
   "cell_type": "code",
   "execution_count": null,
   "id": "38d6e90c",
   "metadata": {},
   "outputs": [],
   "source": [
    "# define the path in which data are stored\n",
    "path = 'C:/Users/SK/Desktop/Diploma_Thesis/Datasets/San-Francisco-Yellow-Cabs/Data'"
   ]
  },
  {
   "cell_type": "code",
   "execution_count": 3,
   "id": "95d17cc7",
   "metadata": {},
   "outputs": [
    {
     "name": "stdout",
     "output_type": "stream",
     "text": [
      "time: 2min 31s (started: 2023-08-10 21:20:01 +03:00)\n"
     ]
    }
   ],
   "source": [
    "counter = 0 # Taxi ID starts from 0\n",
    "\n",
    "# create an empty dataframe, in which all the data will be saved\n",
    "all_data = pd.DataFrame(columns=['Taxi ID','Latitude','Longitude','Occupied','Date Time'])\n",
    "\n",
    "for filename in os.listdir(path):\n",
    "    \n",
    "    # read each file in the Data folder\n",
    "    temp = pd.read_csv(path+'/'+filename,names=['Latitude','Longitude','Occupied','Date Time'],sep=' ')\n",
    "    \n",
    "    # assign Taxi ID number to each file\n",
    "    temp.insert(1,'Taxi ID',counter)\n",
    "    \n",
    "    # add the data in this file in the 'all_data' dataframe\n",
    "    all_data = pd.concat([all_data, temp],ignore_index = True)\n",
    "    \n",
    "    counter += 1 # increase Taxi ID number by 1    "
   ]
  },
  {
   "cell_type": "markdown",
   "id": "22a2bca2",
   "metadata": {},
   "source": [
    "##### Change datetime field to timestamp"
   ]
  },
  {
   "cell_type": "code",
   "execution_count": 4,
   "id": "d453e70c",
   "metadata": {},
   "outputs": [
    {
     "name": "stdout",
     "output_type": "stream",
     "text": [
      "time: 7.72 s (started: 2023-08-10 21:22:32 +03:00)\n"
     ]
    }
   ],
   "source": [
    "all_data['Date Time'] = pd.to_datetime(all_data['Date Time'],origin='unix',unit='s')"
   ]
  },
  {
   "cell_type": "code",
   "execution_count": 5,
   "id": "7d8bdd7d",
   "metadata": {},
   "outputs": [
    {
     "name": "stdout",
     "output_type": "stream",
     "text": [
      "time: 984 ms (started: 2023-08-10 21:22:40 +03:00)\n"
     ]
    }
   ],
   "source": [
    "# choose the data of one week\n",
    "all_data = all_data[(all_data['Date Time'] >= \"2008-05-18 00:00:00\") & (all_data['Date Time'] < \"2008-05-25 00:00:00\")]"
   ]
  },
  {
   "cell_type": "markdown",
   "id": "59c06701",
   "metadata": {},
   "source": [
    "##### Sort the data based in Taxi ID and timestamp information"
   ]
  },
  {
   "cell_type": "code",
   "execution_count": 6,
   "id": "2890a2fd",
   "metadata": {},
   "outputs": [
    {
     "name": "stdout",
     "output_type": "stream",
     "text": [
      "time: 2.66 s (started: 2023-08-10 21:22:41 +03:00)\n"
     ]
    }
   ],
   "source": [
    "all_data = all_data.sort_values(['Taxi ID','Date Time'])\n",
    "all_data = all_data.reset_index(drop=True)"
   ]
  },
  {
   "cell_type": "markdown",
   "id": "094f8def",
   "metadata": {},
   "source": [
    "##### Delete the 'Occupied' column\n",
    "This column denotes whether or not the taxi was occupied by a passenger during GPS recording. So, this information is not useful for our research."
   ]
  },
  {
   "cell_type": "code",
   "execution_count": 7,
   "id": "0453e842",
   "metadata": {},
   "outputs": [
    {
     "name": "stdout",
     "output_type": "stream",
     "text": [
      "time: 141 ms (started: 2023-08-10 21:22:44 +03:00)\n"
     ]
    }
   ],
   "source": [
    "all_data.drop('Occupied',axis=1,inplace=True)"
   ]
  },
  {
   "cell_type": "markdown",
   "id": "eb9a12e2",
   "metadata": {},
   "source": [
    "#### Step 2: Split the trajectories based on time field and FIle ID (time to be completed: 1 hour)\n",
    "\n",
    "Split each trajectory in the same Taxi ID based on the timestamp field.\n",
    "\n",
    "Here, <b>n_sec</b> variable denotes the maximum number of seconds that consecutive GPS traces in the same sub trajectory should have."
   ]
  },
  {
   "cell_type": "code",
   "execution_count": 8,
   "id": "691c47de",
   "metadata": {},
   "outputs": [
    {
     "name": "stdout",
     "output_type": "stream",
     "text": [
      "time: 16 ms (started: 2023-08-10 21:22:44 +03:00)\n"
     ]
    }
   ],
   "source": [
    "all_data.insert(1,'Traj ID',-1)"
   ]
  },
  {
   "cell_type": "code",
   "execution_count": null,
   "id": "07cfdfa8",
   "metadata": {},
   "outputs": [],
   "source": [
    "''' \n",
    "Each Taxi ID contains GPS data of one trajectory\n",
    "\n",
    "If the time gap between two GPS points is lower than n_sec seconds, (condition 1)\n",
    "and these GPS points belong to the same Taxi ID  (condition 2)\n",
    "then asign the same Traj ID number. (result)\n",
    "\n",
    "If the time gap between two GPS points is higher than n_sec seconds, (condition 1)\n",
    "and these GPS points belong to the same Taxi ID  (condition 2)\n",
    "then asign different Traj ID number to each of these GPS points. (result)\n",
    "\n",
    "If the GPS points belong to the same Taxi ID  (condition)\n",
    "then asign different Traj ID number to each of these GPS points. (result)\n",
    "\n",
    "'''\n",
    "\n",
    "# max number of seconds between GPS records of each traectory\n",
    "n_sec = 90\n",
    "traj_id = 0\n",
    "\n",
    "for i in range(all_data.shape[0] -1):\n",
    "    \n",
    "    if (all_data['Taxi ID'][i+1] == all_data['Taxi ID'][i]): # belong to the same File ID\n",
    "        \n",
    "        if (((all_data['Date Time'][i+1])-(all_data['Date Time'][i])).total_seconds() <= n_sec): # time interval less-equal than n_sec\n",
    "            all_data.at[i,'Traj ID'] = traj_id\n",
    "            all_data.at[i+1,'Traj ID'] = traj_id\n",
    "            \n",
    "        else: # time interval higher than n_sec\n",
    "            all_data.at[i,'Traj ID'] = traj_id\n",
    "            traj_id +=1\n",
    "            all_data.at[i+1,'Traj ID'] = traj_id\n",
    "    \n",
    "    else: # not belong to the same File ID\n",
    "        all_data.at[i,'Traj ID'] = traj_id\n",
    "        traj_id  = 0\n",
    "        all_data.at[i+1,'Traj ID'] = traj_id"
   ]
  },
  {
   "cell_type": "markdown",
   "id": "b4434bb8",
   "metadata": {},
   "source": [
    "##### Delete trajectories, which contain only one OSM Way ID"
   ]
  },
  {
   "cell_type": "code",
   "execution_count": null,
   "id": "04a67c94",
   "metadata": {},
   "outputs": [],
   "source": [
    "uniques = all_data.loc[:, ['Taxi ID', 'Traj ID']].drop_duplicates(keep=False).index\n",
    "all_data.drop(uniques,axis=0,inplace=True)\n",
    "all_data.reset_index(drop=True,inplace=True)"
   ]
  },
  {
   "cell_type": "markdown",
   "id": "345cd0c4",
   "metadata": {},
   "source": [
    "##### Find min and max date in this dataset"
   ]
  },
  {
   "cell_type": "code",
   "execution_count": 9,
   "id": "dac67545",
   "metadata": {},
   "outputs": [
    {
     "name": "stdout",
     "output_type": "stream",
     "text": [
      "Min date is: 2008-05-18 00:00:00\n",
      "Max date is: 2008-05-24 23:59:59\n",
      "time: 47 ms (started: 2023-08-10 21:22:44 +03:00)\n"
     ]
    }
   ],
   "source": [
    "print(\"Min date is: \"+str(all_data['Date Time'].min()))\n",
    "print(\"Max date is: \"+str(all_data['Date Time'].max()))"
   ]
  },
  {
   "cell_type": "markdown",
   "id": "b3eb51c4",
   "metadata": {},
   "source": [
    "#### Step 3: Begin Map Matching (time to be  completed: 13-15 hours)\n",
    "\n",
    "Map matching done using Valhalla Meili API. Given each trajectory to the API as input, the response contains information of the exact path that each trajectory followed. The paths are in the form of OSM Way IDs. \n",
    "\n",
    "Sources:\n",
    "\n",
    "-  <b>Installation using Docker: </b>https://ikespand.github.io/posts/meili/\n",
    "-  <b>Paper about Valhalla: </b>https://link.springer.com/article/10.1007/s42979-022-01340-5#Tab5\n",
    "-  <b>APIs documentation: </b>https://valhalla.github.io/valhalla/api/map-matching/api-reference/#matched-point-items  "
   ]
  },
  {
   "cell_type": "code",
   "execution_count": 10,
   "id": "9f85dd04",
   "metadata": {},
   "outputs": [
    {
     "name": "stdout",
     "output_type": "stream",
     "text": [
      "time: 93 ms (started: 2023-08-10 21:22:44 +03:00)\n"
     ]
    }
   ],
   "source": [
    "# pass latitude and longitude pairs to Valhalla API\n",
    "df_for_meili = all_data[['Latitude','Longitude']]\n",
    "df_for_meili = df_for_meili.rename(columns={\"Latitude\": \"lat\", \"Longitude\": \"lon\"})"
   ]
  },
  {
   "cell_type": "markdown",
   "id": "13033a66",
   "metadata": {},
   "source": [
    "Create a new dataframe under the name \"visited_segments\", in which information about each trajectory will be contained. The columns of this new dataframe are:\n",
    "-  <b>File ID: </b>The folder that contains information of this trajecotry.\n",
    "-  <b>Traj ID: </b>The ID of the trajectory in this folder.\n",
    "-  <b>OSM Way ID: </b>The way ID number of the edge that trajectory visited.\n",
    "-  <b>Start Time: </b>Expected time that trajecotry enter the specific edge.\n",
    "-  <b>End Time: </b>Expected time that trajecotry left the specific edge."
   ]
  },
  {
   "cell_type": "code",
   "execution_count": null,
   "id": "3a452215",
   "metadata": {},
   "outputs": [],
   "source": [
    "visited_segments = pd.DataFrame(columns=['Taxi ID','Traj ID','OSM Way ID','Start Time','End Time'])\n",
    "\n",
    "for taxi_id in all_data['Taxi ID'].unique():\n",
    "    for traj_id in all_data[all_data['Taxi ID'] == taxi_id]['Traj ID'].unique():\n",
    "\n",
    "            # get the batch of data that we send to the request\n",
    "            indexes = all_data[(all_data['Taxi ID']==taxi_id) & (all_data['Traj ID'] == traj_id)].index\n",
    "            \n",
    "            # input to API\n",
    "            passed_data = df_for_meili.iloc[indexes]\n",
    "\n",
    "            # preparing the request to Valhalla's Meili\n",
    "            meili_coordinates = passed_data.to_json(orient='records')\n",
    "            meili_head = '{\"shape\":'\n",
    "            meili_tail = \"\"\",\"search_radius\": 250, \"sigma_z\": 10, \"beta\": 10,\"shape_match\":\"map_snap\", \"costing\":\"auto\",\n",
    "                            \"filters\":{\"attributes\":[\"edge.way_id\"],\"action\":\"include\"},\n",
    "                            \"format\":\"osrm\"}\"\"\"\n",
    "\n",
    "            # this is the request\n",
    "            meili_request_body = meili_head + meili_coordinates + meili_tail\n",
    "\n",
    "            # the URL of the local valhalla server\n",
    "            url = \"http://localhost:8002/trace_attributes\"\n",
    "\n",
    "            # providing headers to the request\n",
    "            headers = {'Content-type': 'application/json'}\n",
    "\n",
    "            # we need to send the JSON as a string\n",
    "            data = str(meili_request_body)\n",
    "\n",
    "            # sending a request\n",
    "            r = requests.post(url, data=data, headers=headers)\n",
    "\n",
    "            if r.status_code == 200: # response from Valhalla API was successful\n",
    "\n",
    "                # parsing the JSON response\n",
    "                response_text = json.loads(r.text)\n",
    "\n",
    "                # find the time interval (in sec) that the trajectory needs to be completed [last timestamp - first timestamp]\n",
    "                interval = (all_data.iloc[indexes].iloc[-1]['Date Time'] - all_data.iloc[indexes].iloc[0]['Date Time']).total_seconds()\n",
    "\n",
    "                # compute the expected duration that the moving object is in each edge (duration is equal for each edge that the trajectory visits)\n",
    "                duration  = interval/len(response_text['edges'])\n",
    "\n",
    "                # make a temporary dataframe\n",
    "                temp = pd.DataFrame(columns=['Taxi ID','Traj ID','OSM Way ID','Start Time','End Time'])\n",
    "\n",
    "                # make the final dataframe with the help of a temporary dataframe\n",
    "                for i in range(len(response_text['edges'])):\n",
    "\n",
    "                    # complete the fields of temp dataframe\n",
    "                    temp.at[i,'Taxi ID'] = taxi_id\n",
    "                    temp.at[i,'Traj ID'] = traj_id\n",
    "                    temp.at[i,'OSM Way ID'] = response_text['edges'][i]['way_id']\n",
    "\n",
    "                    if i == 0:\n",
    "                        temp.at[i,'Start Time'] = all_data.iloc[indexes].iloc[0]['Date Time']\n",
    "                    else:\n",
    "                        temp.at[i,'Start Time'] = temp.at[i-1,'End Time']\n",
    "\n",
    "                    temp.at[i,'End Time'] = temp.at[i,'Start Time'] + timedelta(seconds=duration)\n",
    "\n",
    "                # concatenate the two dataframes\n",
    "                visited_segments = pd.concat([visited_segments,temp],ignore_index=True)"
   ]
  },
  {
   "cell_type": "markdown",
   "id": "9416b0a5",
   "metadata": {},
   "source": [
    "##### Delete trajectories, which contain only one OSM Way ID"
   ]
  },
  {
   "cell_type": "code",
   "execution_count": null,
   "id": "8b7da60a",
   "metadata": {},
   "outputs": [],
   "source": [
    "uniques = visited_segments.loc[:, ['Taxi ID', 'Traj ID']].drop_duplicates(keep=False).index\n",
    "visited_segments.drop(uniques,axis=0,inplace=True)\n",
    "visited_segments.reset_index(drop=True,inplace=True)\n",
    "visited_segments = visited_segments.sort_values(['Taxi ID','Traj ID','Start Time']).reset_index(drop=True)"
   ]
  },
  {
   "cell_type": "markdown",
   "id": "780b011d",
   "metadata": {},
   "source": [
    "### Phase 2: Make two time series datasets\n",
    "- The first time series dataset contains the traffic flow in each path using  SPQ rules.\n",
    "- The second time series dataset contains the traffic flow in each path without the use of SPQ rules."
   ]
  },
  {
   "cell_type": "code",
   "execution_count": 11,
   "id": "2e87ce9a",
   "metadata": {},
   "outputs": [
    {
     "name": "stdout",
     "output_type": "stream",
     "text": [
      "time: 1min 55s (started: 2023-08-10 21:22:44 +03:00)\n"
     ]
    }
   ],
   "source": [
    "# convert timestamps to datetime data type\n",
    "visited_segments['Start Time'] = pd.to_datetime(visited_segments['Start Time'],format='%Y-%m-%d %H:%M:%S.%f')\n",
    "visited_segments['End Time'] = pd.to_datetime(visited_segments['End Time'],format='%Y-%m-%d %H:%M:%S.%f')"
   ]
  },
  {
   "cell_type": "markdown",
   "id": "1a470a52",
   "metadata": {},
   "source": [
    "#### Step 1: Create the time information of the time series datasets"
   ]
  },
  {
   "cell_type": "code",
   "execution_count": 12,
   "id": "be55f8b1",
   "metadata": {},
   "outputs": [
    {
     "name": "stdout",
     "output_type": "stream",
     "text": [
      "Min timestamp value in the dataframe is:  2008-05-18 00:00:00\n",
      "Max timestamp value in the dataframe is:  2008-05-24 23:59:59.000130\n",
      "\n",
      "Total duration in sec in this dataframe is:  604799.00013\n",
      "time: 203 ms (started: 2023-08-10 21:24:40 +03:00)\n"
     ]
    }
   ],
   "source": [
    "# find max and min timestamp in the dataset\n",
    "min_timestamp = visited_segments['Start Time'].min()\n",
    "print(\"Min timestamp value in the dataframe is: \",min_timestamp)\n",
    "\n",
    "max_timestamp = visited_segments['End Time'].max()\n",
    "print(\"Max timestamp value in the dataframe is: \",max_timestamp)\n",
    "\n",
    "# calculate total seconds between those max and min values\n",
    "total_sec = (max_timestamp-min_timestamp).total_seconds()\n",
    "print(\"\\nTotal duration in sec in this dataframe is: \",total_sec)"
   ]
  },
  {
   "cell_type": "markdown",
   "id": "0637d35e",
   "metadata": {},
   "source": [
    "Since we have data of one week, we will create time intervals  of half hour"
   ]
  },
  {
   "cell_type": "code",
   "execution_count": 13,
   "id": "e3cf1da2",
   "metadata": {},
   "outputs": [
    {
     "name": "stdout",
     "output_type": "stream",
     "text": [
      "time: 15 ms (started: 2023-08-10 21:24:40 +03:00)\n"
     ]
    }
   ],
   "source": [
    "# this list contains the time information of our time-series data\n",
    "time_info = []\n",
    "\n",
    "i =0\n",
    "while(True):\n",
    "    if i == 0:\n",
    "        time_info.append(min_timestamp)\n",
    "    else:\n",
    "        time_info.append(time_info[i-1] + timedelta(seconds=1800))\n",
    "    \n",
    "    if (time_info[i]>=max_timestamp):\n",
    "        break\n",
    "    \n",
    "    i+=1 \n",
    "\n",
    "# create pairs of consecutive values of the list time_info\n",
    "time_intervals = list(zip(*[time_info[i:] for i in range(2)])) "
   ]
  },
  {
   "cell_type": "markdown",
   "id": "d5d6988b",
   "metadata": {},
   "source": [
    "#### Step 2: Generate random unique paths of random lengths\n",
    "These paths can be of any length. The number of consecutive edges contained in the path defines it's length. The code below uses the information created above (visited_segments), in order to generate the paths."
   ]
  },
  {
   "cell_type": "code",
   "execution_count": 14,
   "id": "b5f53621",
   "metadata": {},
   "outputs": [
    {
     "name": "stdout",
     "output_type": "stream",
     "text": [
      "time: 843 ms (started: 2023-08-10 21:24:40 +03:00)\n"
     ]
    }
   ],
   "source": [
    "paths = pd.DataFrame(columns=['Taxi ID','Traj ID','Path','Length']) # empty dataframe, in which all the paths will be saved\n",
    "\n",
    "length_options = [2,3,4,5,6,7,8,9,10,11,12,13,14,15] # define the length options\n",
    "\n",
    "check = [] # this list is used, in order to be sure that paths created are unique\n",
    "\n",
    "indexes = np.arange(visited_segments.shape[0]-max(length_options)+1) # legal indexes in which algorithm can search for paths\n",
    "\n",
    "i = 0\n",
    "n = 1000 # number of paths to be created\n",
    "\n",
    "while (paths.shape[0] < n):\n",
    "    p = [] # this list will save the path created\n",
    "    selected_index = random.choice(indexes) # select randomly an index   \n",
    "    selected_length = random.choice(length_options) # the length of the new path to be created\n",
    "\n",
    "    # check if path is within the same trajectory\n",
    "    if ((visited_segments.at[selected_index,'Taxi ID'] == visited_segments.at[selected_index+(selected_length-1),'Taxi ID']) & \n",
    "        (visited_segments.at[selected_index,'Traj ID'] == visited_segments.at[selected_index+(selected_length-1),'Traj ID'])):\n",
    "        \n",
    "        # iterate to the \"visited_segments\" dataframe and extract the consequtive \n",
    "        # [selected_index...index+selected_length] OSM Way IDs\n",
    "        for y in range(selected_length): \n",
    "            p.append(int(visited_segments.at[selected_index+y,'OSM Way ID']))\n",
    "    \n",
    "        # if path is unique, then add it to paths dataframe\n",
    "        if p not in check: \n",
    "            check.append(p)\n",
    "            \n",
    "            paths.at[i,'Taxi ID'] = visited_segments.at[selected_index,'Taxi ID']\n",
    "            paths.at[i,'Traj ID'] = visited_segments.at[selected_index,'Traj ID']\n",
    "            \n",
    "            paths.at[i,'Path'] = p # add the new path to the dataframe\n",
    "            paths.at[i,'Length'] = selected_length\n",
    "            i += 1\n",
    "        else:\n",
    "            continue      "
   ]
  },
  {
   "cell_type": "markdown",
   "id": "fd93a5fd",
   "metadata": {},
   "source": [
    "#### Step 3a: Create the SPQ function\n",
    "\n",
    "This is the main function that will be used for the construction of the first time series dataset.\n",
    "The SPQ (Strict Path Query) function, returns all the trajectories [the trajectories are unique (Taxi_ID,Traj_ID) pairs] that pass through given path of edges at a given time interval [time_enter,time_leave].\n",
    "\n",
    "Parameters:\n",
    "- <b>path: </b> The path that the trajectories should exactly follow (edge by edge - one by one). This path can be of any length greater or equal to 2 edges.\n",
    "\n",
    "- <b>time_enter: </b>The time, in which the trajectory should enter the first edge of the path given as input.\n",
    "- <b>time_leave: </b>The time, in which the trajectory should leave the last edge of the path given as input."
   ]
  },
  {
   "cell_type": "code",
   "execution_count": 15,
   "id": "d54686c0",
   "metadata": {},
   "outputs": [
    {
     "name": "stdout",
     "output_type": "stream",
     "text": [
      "time: 0 ns (started: 2023-08-10 21:24:41 +03:00)\n"
     ]
    }
   ],
   "source": [
    "def SPQ(path,time_enter,time_leave):\n",
    "    \n",
    "    # length of the path given to the function\n",
    "    path_length = len(path)\n",
    "    \n",
    "    # this list will save temporarily the trajectories that match the SPQ condition\n",
    "    trajectories = []\n",
    "    \n",
    "    # extract only the data that match the time interval given as input\n",
    "    #examined_data = visited_segments[(visited_segments['Start Time'] >= time_enter) & (visited_segments['End Time'] <= time_leave)].reset_index(drop=True)\n",
    "\n",
    "    # find all the indexes, in which the first edge in the path is located\n",
    "    needed_indexes = examined_data[examined_data['OSM Way ID'] == path[0]].index\n",
    "\n",
    "    # iterate through all indexes (note the Taxi_ID and Traj_ID numbers)\n",
    "    for index in needed_indexes:\n",
    "\n",
    "        traj_id = examined_data.at[index,'Traj ID']\n",
    "        taxi_id = examined_data.at[index,'Taxi ID']\n",
    "        inter = 1\n",
    "        \n",
    "        # decide if the row in the next index matches the criteria (same Taxi_ID, same Traj_ID, the path required)\n",
    "        for i in range(1,path_length):\n",
    "            try:\n",
    "                if (not ((examined_data['OSM Way ID'].iloc[index+i] == path[i]) \n",
    "                         & (examined_data['Traj ID'].iloc[index+i] == traj_id) \n",
    "                        & (examined_data['Taxi ID'].iloc[index+i] == taxi_id))):\n",
    "\n",
    "                    break\n",
    "\n",
    "                inter += 1 # if the criteria match, then increase inter counter by one\n",
    "\n",
    "            except:\n",
    "                pass # index out of bounds exception (do nothing)\n",
    "            \n",
    "        # if the criteria match as many times as the length of the path, then we found one trajectory\n",
    "        if (path_length == inter):\n",
    "            trajectories.append((taxi_id,traj_id)) # add this trajectory to the trajectories list\n",
    "    \n",
    "    # return the number of trajectories that matches the criteria\n",
    "    return (len([t for t in (set(tuple(i) for i in trajectories))]))"
   ]
  },
  {
   "cell_type": "markdown",
   "id": "cf53f233",
   "metadata": {},
   "source": [
    "#### Step 3b: Create the same SPQ function using postgreSQL\n",
    "\n",
    "In order to do this, we have loaded the \"visited_segments\" data into a PostgreSQL table called \"visited_segments\". The SPQ function has been rewritten using PL/pgSQL language. In order to accelerate the execution of this function, we have defined B+ tree indexes on columns of the \"visited_segments\" table. The function is located inside the database.\n",
    "\n",
    "#### Compare the two methods, using plots. The comparison is based in CPU time.\n",
    "In order to be more accurate, we are executing batches of 20 queries (with paths of the same length) using Python and PL/pgSQL implementation of SPQ function. The execution of PL/pgSQL function is done inside the pgAdmin4, in order not to include the request and responce times.\n",
    "\n",
    "Comments:\n",
    "\n",
    "1) The vertical axis shows the execution time in seconds. As for PostgreSQL, the queries are executed inside pgAdmin4, so we can measure the CPU runtime.\n",
    "\n",
    "2) The horizontal axis includes the batches of queries executed at a time. Essentially, we execute 20 queries at a time with paths of equal length. The exact same queries are executed in python and postgreSQL environments. The horizontal axis, especially, reports the length of the paths contained each time in the batches of 20 queries executed.\n",
    "\n",
    "3) Each bar in the plot represents the total execution time of 20 SPQ calls.\n",
    "\n",
    "4) Faster implementation is the one in Python."
   ]
  },
  {
   "cell_type": "code",
   "execution_count": 24,
   "id": "591c0f9f",
   "metadata": {},
   "outputs": [
    {
     "name": "stdout",
     "output_type": "stream",
     "text": [
      "time: 0 ns (started: 2023-08-10 21:30:57 +03:00)\n"
     ]
    }
   ],
   "source": [
    "image_path = \"C:/Users/SK/Desktop/Πτυχιακή/SPQ_python_plpgsql.png\""
   ]
  },
  {
   "cell_type": "code",
   "execution_count": 26,
   "id": "df352172",
   "metadata": {},
   "outputs": [
    {
     "data": {
      "image/png": "[encoded data removed]",
      "text/plain": [
       "<IPython.core.display.Image object>"
      ]
     },
     "execution_count": 26,
     "metadata": {
      "image/png": {
       "alt": "SPQ calls of batches of 20 queries in pythons and PL/pgSQL environments",
       "height": 400,
       "width": 600
      }
     },
     "output_type": "execute_result"
    },
    {
     "name": "stdout",
     "output_type": "stream",
     "text": [
      "time: 0 ns (started: 2023-08-10 21:31:08 +03:00)\n"
     ]
    }
   ],
   "source": [
    "from IPython import display\n",
    "display.Image(data=image_path, \n",
    "              alt=\"SPQ calls of batches of 20 queries in pythons and PL/pgSQL environments\",\n",
    "              height=400,\n",
    "              width=600)"
   ]
  },
  {
   "cell_type": "markdown",
   "id": "d2e2806d",
   "metadata": {},
   "source": [
    "#### Step 4a: Fill the time series dataframe using the SPQ function\n",
    "This dataset to be created will refer at each path and at each time interval the traffic flow in this path using the rules described in the following paper:\n",
    "\n",
    "-  <b>SQP query paper: </b>https://dl.acm.org/doi/abs/10.1145/2666310.2666413"
   ]
  },
  {
   "cell_type": "code",
   "execution_count": 17,
   "id": "c2942447",
   "metadata": {},
   "outputs": [
    {
     "name": "stdout",
     "output_type": "stream",
     "text": [
      "time: 47 ms (started: 2023-08-10 21:24:55 +03:00)\n"
     ]
    }
   ],
   "source": [
    "# create an empty dataframe\n",
    "time_series_SPQ = pd.DataFrame(columns=time_intervals)\n",
    "\n",
    "# fill the time series dataset\n",
    "time_series_SPQ.insert(0,'Taxi ID',0)\n",
    "time_series_SPQ.insert(1,'Traj ID',0)\n",
    "time_series_SPQ.insert(2,'Path',0)\n",
    "time_series_SPQ.insert(3,'Length',0)\n",
    "time_series_SPQ['Path'] = paths['Path']\n",
    "time_series_SPQ['Length'] = paths['Length']\n",
    "time_series_SPQ['Taxi ID'] = paths['Taxi ID']\n",
    "time_series_SPQ['Traj ID'] = paths['Traj ID']"
   ]
  },
  {
   "cell_type": "code",
   "execution_count": null,
   "id": "607502a4",
   "metadata": {},
   "outputs": [],
   "source": [
    "# fill the dataframe column by column (time to be completed: 25 minutes)\n",
    "for time in time_intervals:\n",
    "    i = 0\n",
    "    examined_data = visited_segments[(visited_segments['Start Time'] >= time[0]) & (visited_segments['End Time'] <= time[1])].reset_index(drop=True)\n",
    "    for path in paths['Path'].to_list():\n",
    "        time_series_SPQ.at[i,time] = SPQ(path,time[0],time[1])\n",
    "        i += 1"
   ]
  },
  {
   "cell_type": "code",
   "execution_count": null,
   "id": "403c640c",
   "metadata": {},
   "outputs": [],
   "source": [
    "# print the dataframe with SPQ traffic flow information\n",
    "time_series_SPQ"
   ]
  },
  {
   "cell_type": "code",
   "execution_count": null,
   "id": "71e2abbd",
   "metadata": {},
   "outputs": [],
   "source": [
    "save_path = 'C:/Users/SK/Desktop/Diploma_Thesis/Datasets/San-Francisco-Yellow-Cabs/Files/time_series_SPQ.txt'\n",
    "time_series_SPQ.to_csv(save_path,index=False)"
   ]
  },
  {
   "cell_type": "markdown",
   "id": "a397c992",
   "metadata": {},
   "source": [
    "#### Step 4b: Fill the second time series dataframe without using the SPQ rules\n",
    "In this case, the traffic flow information at each path and at each time interval does not follow the conditions and rules that the SPQ function denotes. So in this dataset, traffic flow at each path will describe that in a specific time interval, a number of moving objects have crossed all the edge ids (roads) contained in a specific path."
   ]
  },
  {
   "cell_type": "code",
   "execution_count": 19,
   "id": "173805b0",
   "metadata": {},
   "outputs": [
    {
     "name": "stdout",
     "output_type": "stream",
     "text": [
      "time: 16 ms (started: 2023-08-10 21:27:07 +03:00)\n"
     ]
    }
   ],
   "source": [
    "# create an empty dataframe\n",
    "time_series_without_SPQ = pd.DataFrame(columns=time_intervals)\n",
    "\n",
    "# fill the time series dataset\n",
    "time_series_without_SPQ.insert(0,'Taxi ID',0)\n",
    "time_series_without_SPQ.insert(1,'Traj ID',0)\n",
    "time_series_without_SPQ.insert(2,'Path',0)\n",
    "time_series_without_SPQ.insert(3,'Length',0)\n",
    "time_series_without_SPQ['Path'] = paths['Path']\n",
    "time_series_without_SPQ['Length'] = paths['Length']\n",
    "time_series_without_SPQ['Taxi ID'] = paths['Taxi ID']\n",
    "time_series_without_SPQ['Traj ID'] = paths['Traj ID']"
   ]
  },
  {
   "cell_type": "markdown",
   "id": "5bd5d3c7",
   "metadata": {},
   "source": [
    "##### Use a function to fill the times series dataset without the use of SPQ\n",
    "The given code defines a function called traffic_flow_without_SPQ that takes a list <b>path</b> and two time parameters <b>time_enter</b> and <b>time_leave</b>. It aims to find the count of trajectories in some data, where the given path is entirely covered by the 'OSM Way ID' values associated with each trajectory and taxi, based on the specified time interval."
   ]
  },
  {
   "cell_type": "code",
   "execution_count": 20,
   "id": "0a4b9594",
   "metadata": {},
   "outputs": [
    {
     "name": "stdout",
     "output_type": "stream",
     "text": [
      "time: 0 ns (started: 2023-08-10 21:27:26 +03:00)\n"
     ]
    }
   ],
   "source": [
    "def traffic_flow_without_SPQ(path, time_enter, time_leave):\n",
    "    # Initialize the count of matching trajectories\n",
    "    trajectories = 0\n",
    "    \n",
    "    # extract only the data that match the time interval given as input\n",
    "    # examined_data = visited_segments[(visited_segments['Start Time'] >= time_enter) & (visited_segments['End Time'] <= time_leave)].reset_index(drop=True)\n",
    "\n",
    "    # find the indexes of entries in 'examined_data' where \n",
    "    # the first element of the 'path' is present in the 'OSM Way ID' column\n",
    "    needed_indexes = examined_data[examined_data['OSM Way ID'] == path[0]].index\n",
    "\n",
    "    # convert the 'path' list to a set for efficient subset check\n",
    "    path_roads = set(path)\n",
    "\n",
    "    # loop through the needed indexes to check for matching trajectories\n",
    "    for index in needed_indexes:\n",
    "        \n",
    "        # get the 'Traj ID' and 'Taxi ID' for the current index\n",
    "        traj_id = examined_data.at[index, 'Traj ID']\n",
    "        taxi_id = examined_data.at[index, 'Taxi ID']\n",
    "\n",
    "        # find all the 'OSM Way ID' values for the current 'Traj ID' and 'Taxi ID'\n",
    "        selected_roads = set(examined_data[(examined_data['Traj ID'] == traj_id) & (examined_data['Taxi ID'] == taxi_id)]['OSM Way ID'])\n",
    "        \n",
    "        # check if the 'path_roads' is a subset of 'selected_roads'\n",
    "        if path_roads.issubset(selected_roads):\n",
    "            \n",
    "            # increment the count of matching trajectories\n",
    "            trajectories += 1\n",
    "\n",
    "    # return the count of matching trajectories\n",
    "    return trajectories\n"
   ]
  },
  {
   "cell_type": "code",
   "execution_count": null,
   "id": "e249834f",
   "metadata": {},
   "outputs": [],
   "source": [
    "# fill the dataframe column by column (time to be completed: 2 hours)\n",
    "for time in time_intervals:\n",
    "    i = 0\n",
    "    examined_data = visited_segments[(visited_segments['Start Time'] >= time[0]) & (visited_segments['End Time'] <= time[1])].reset_index(drop=True)\n",
    "    for path in paths['Path'].to_list():\n",
    "        time_series_without_SPQ.at[i,time] = traffic_flow_without_SPQ(path,time[0],time[1])\n",
    "        i += 1"
   ]
  },
  {
   "cell_type": "code",
   "execution_count": null,
   "id": "161bcd3f",
   "metadata": {},
   "outputs": [],
   "source": [
    "# print the dataframe without the SPQ traffic flow information\n",
    "time_series_without_SPQ"
   ]
  },
  {
   "cell_type": "code",
   "execution_count": null,
   "id": "f71ac6e0",
   "metadata": {},
   "outputs": [],
   "source": [
    "# save dataframe to CSV format\n",
    "save_path_2 = 'C:/Users/SK/Desktop/Diploma_Thesis/Datasets/San-Francisco-Yellow-Cabs/Files/time_series_without_SPQ.txt'\n",
    "time_series_without_SPQ.to_csv(save_path_2,index=False)"
   ]
  },
  {
   "cell_type": "markdown",
   "id": "8c0c2211",
   "metadata": {},
   "source": [
    "##### Plot the distribution of paths created with respect to the length"
   ]
  },
  {
   "cell_type": "code",
   "execution_count": 23,
   "id": "169d31b4",
   "metadata": {},
   "outputs": [
    {
     "data": {
      "image/png": "[encoded data removed]",
      "text/plain": [
       "<Figure size 1200x500 with 1 Axes>"
      ]
     },
     "metadata": {},
     "output_type": "display_data"
    },
    {
     "name": "stdout",
     "output_type": "stream",
     "text": [
      "time: 1.33 s (started: 2023-08-10 21:29:27 +03:00)\n"
     ]
    }
   ],
   "source": [
    "# count the number of paths grouped by length attribute\n",
    "plt.figure(figsize=(12,5))\n",
    "sns.countplot(time_series_SPQ,x='Length')\n",
    "plt.xlabel('Length inputs')\n",
    "plt.ylabel('Number of Paths with specific Length')\n",
    "plt.title('Distribution of path lenghts in the two datasets')\n",
    "plt.show()"
   ]
  }
 ],
 "metadata": {
  "kernelspec": {
   "display_name": "DataAnalytics",
   "language": "python",
   "name": "dataanalytics"
  },
  "language_info": {
   "codemirror_mode": {
    "name": "ipython",
    "version": 3
   },
   "file_extension": ".py",
   "mimetype": "text/x-python",
   "name": "python",
   "nbconvert_exporter": "python",
   "pygments_lexer": "ipython3",
   "version": "3.11.3"
  }
 },
 "nbformat": 4,
 "nbformat_minor": 5
}
