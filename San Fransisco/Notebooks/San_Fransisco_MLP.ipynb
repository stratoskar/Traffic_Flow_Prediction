{
 "cells": [
  {
   "cell_type": "markdown",
   "id": "6fafcf1a",
   "metadata": {},
   "source": [
    "### Phase 4: Build MLP model for forecast"
   ]
  },
  {
   "cell_type": "code",
   "execution_count": 1,
   "id": "045ff8c4",
   "metadata": {},
   "outputs": [
    {
     "name": "stdout",
     "output_type": "stream",
     "text": [
      "time: 0 ns (started: 2023-06-30 18:22:28 +03:00)\n"
     ]
    }
   ],
   "source": [
    "# measure execution time\n",
    "%load_ext autotime"
   ]
  },
  {
   "cell_type": "code",
   "execution_count": 2,
   "id": "ec548328",
   "metadata": {},
   "outputs": [
    {
     "name": "stdout",
     "output_type": "stream",
     "text": [
      "time: 2.62 s (started: 2023-06-30 18:22:28 +03:00)\n"
     ]
    }
   ],
   "source": [
    "# standard imports\n",
    "import pandas as pd\n",
    "import numpy as np\n",
    "import matplotlib.pyplot as plt\n",
    "import seaborn as sns\n",
    "from datetime import datetime, timedelta"
   ]
  },
  {
   "cell_type": "markdown",
   "id": "e4511a38",
   "metadata": {},
   "source": [
    "### Load the dataset"
   ]
  },
  {
   "cell_type": "code",
   "execution_count": 3,
   "id": "7dd03491",
   "metadata": {},
   "outputs": [
    {
     "data": {
      "text/html": [
       "<div>\n",
       "<style scoped>\n",
       "    .dataframe tbody tr th:only-of-type {\n",
       "        vertical-align: middle;\n",
       "    }\n",
       "\n",
       "    .dataframe tbody tr th {\n",
       "        vertical-align: top;\n",
       "    }\n",
       "\n",
       "    .dataframe thead th {\n",
       "        text-align: right;\n",
       "    }\n",
       "</style>\n",
       "<table border=\"1\" class=\"dataframe\">\n",
       "  <thead>\n",
       "    <tr style=\"text-align: right;\">\n",
       "      <th></th>\n",
       "      <th>Path</th>\n",
       "      <th>Length</th>\n",
       "      <th>(Timestamp('2008-05-18 00:00:00'), Timestamp('2008-05-18 00:30:00'))</th>\n",
       "      <th>(Timestamp('2008-05-18 00:30:00'), Timestamp('2008-05-18 01:00:00'))</th>\n",
       "      <th>(Timestamp('2008-05-18 01:00:00'), Timestamp('2008-05-18 01:30:00'))</th>\n",
       "      <th>(Timestamp('2008-05-18 01:30:00'), Timestamp('2008-05-18 02:00:00'))</th>\n",
       "      <th>(Timestamp('2008-05-18 02:00:00'), Timestamp('2008-05-18 02:30:00'))</th>\n",
       "      <th>(Timestamp('2008-05-18 02:30:00'), Timestamp('2008-05-18 03:00:00'))</th>\n",
       "      <th>(Timestamp('2008-05-18 03:00:00'), Timestamp('2008-05-18 03:30:00'))</th>\n",
       "      <th>(Timestamp('2008-05-18 03:30:00'), Timestamp('2008-05-18 04:00:00'))</th>\n",
       "      <th>...</th>\n",
       "      <th>(Timestamp('2008-05-24 19:00:00'), Timestamp('2008-05-24 19:30:00'))</th>\n",
       "      <th>(Timestamp('2008-05-24 19:30:00'), Timestamp('2008-05-24 20:00:00'))</th>\n",
       "      <th>(Timestamp('2008-05-24 20:00:00'), Timestamp('2008-05-24 20:30:00'))</th>\n",
       "      <th>(Timestamp('2008-05-24 20:30:00'), Timestamp('2008-05-24 21:00:00'))</th>\n",
       "      <th>(Timestamp('2008-05-24 21:00:00'), Timestamp('2008-05-24 21:30:00'))</th>\n",
       "      <th>(Timestamp('2008-05-24 21:30:00'), Timestamp('2008-05-24 22:00:00'))</th>\n",
       "      <th>(Timestamp('2008-05-24 22:00:00'), Timestamp('2008-05-24 22:30:00'))</th>\n",
       "      <th>(Timestamp('2008-05-24 22:30:00'), Timestamp('2008-05-24 23:00:00'))</th>\n",
       "      <th>(Timestamp('2008-05-24 23:00:00'), Timestamp('2008-05-24 23:30:00'))</th>\n",
       "      <th>(Timestamp('2008-05-24 23:30:00'), Timestamp('2008-05-25 00:00:00'))</th>\n",
       "    </tr>\n",
       "  </thead>\n",
       "  <tbody>\n",
       "    <tr>\n",
       "      <th>0</th>\n",
       "      <td>[60678630, 60678630]</td>\n",
       "      <td>2</td>\n",
       "      <td>0</td>\n",
       "      <td>3</td>\n",
       "      <td>1</td>\n",
       "      <td>0</td>\n",
       "      <td>1</td>\n",
       "      <td>0</td>\n",
       "      <td>0</td>\n",
       "      <td>0</td>\n",
       "      <td>...</td>\n",
       "      <td>1</td>\n",
       "      <td>0</td>\n",
       "      <td>2</td>\n",
       "      <td>0</td>\n",
       "      <td>0</td>\n",
       "      <td>1</td>\n",
       "      <td>1</td>\n",
       "      <td>0</td>\n",
       "      <td>2</td>\n",
       "      <td>1</td>\n",
       "    </tr>\n",
       "  </tbody>\n",
       "</table>\n",
       "<p>1 rows × 338 columns</p>\n",
       "</div>"
      ],
      "text/plain": [
       "                   Path  Length  \\\n",
       "0  [60678630, 60678630]       2   \n",
       "\n",
       "   (Timestamp('2008-05-18 00:00:00'), Timestamp('2008-05-18 00:30:00'))  \\\n",
       "0                                                  0                      \n",
       "\n",
       "   (Timestamp('2008-05-18 00:30:00'), Timestamp('2008-05-18 01:00:00'))  \\\n",
       "0                                                  3                      \n",
       "\n",
       "   (Timestamp('2008-05-18 01:00:00'), Timestamp('2008-05-18 01:30:00'))  \\\n",
       "0                                                  1                      \n",
       "\n",
       "   (Timestamp('2008-05-18 01:30:00'), Timestamp('2008-05-18 02:00:00'))  \\\n",
       "0                                                  0                      \n",
       "\n",
       "   (Timestamp('2008-05-18 02:00:00'), Timestamp('2008-05-18 02:30:00'))  \\\n",
       "0                                                  1                      \n",
       "\n",
       "   (Timestamp('2008-05-18 02:30:00'), Timestamp('2008-05-18 03:00:00'))  \\\n",
       "0                                                  0                      \n",
       "\n",
       "   (Timestamp('2008-05-18 03:00:00'), Timestamp('2008-05-18 03:30:00'))  \\\n",
       "0                                                  0                      \n",
       "\n",
       "   (Timestamp('2008-05-18 03:30:00'), Timestamp('2008-05-18 04:00:00'))  ...  \\\n",
       "0                                                  0                     ...   \n",
       "\n",
       "   (Timestamp('2008-05-24 19:00:00'), Timestamp('2008-05-24 19:30:00'))  \\\n",
       "0                                                  1                      \n",
       "\n",
       "   (Timestamp('2008-05-24 19:30:00'), Timestamp('2008-05-24 20:00:00'))  \\\n",
       "0                                                  0                      \n",
       "\n",
       "   (Timestamp('2008-05-24 20:00:00'), Timestamp('2008-05-24 20:30:00'))  \\\n",
       "0                                                  2                      \n",
       "\n",
       "   (Timestamp('2008-05-24 20:30:00'), Timestamp('2008-05-24 21:00:00'))  \\\n",
       "0                                                  0                      \n",
       "\n",
       "   (Timestamp('2008-05-24 21:00:00'), Timestamp('2008-05-24 21:30:00'))  \\\n",
       "0                                                  0                      \n",
       "\n",
       "   (Timestamp('2008-05-24 21:30:00'), Timestamp('2008-05-24 22:00:00'))  \\\n",
       "0                                                  1                      \n",
       "\n",
       "   (Timestamp('2008-05-24 22:00:00'), Timestamp('2008-05-24 22:30:00'))  \\\n",
       "0                                                  1                      \n",
       "\n",
       "   (Timestamp('2008-05-24 22:30:00'), Timestamp('2008-05-24 23:00:00'))  \\\n",
       "0                                                  0                      \n",
       "\n",
       "   (Timestamp('2008-05-24 23:00:00'), Timestamp('2008-05-24 23:30:00'))  \\\n",
       "0                                                  2                      \n",
       "\n",
       "   (Timestamp('2008-05-24 23:30:00'), Timestamp('2008-05-25 00:00:00'))  \n",
       "0                                                  1                     \n",
       "\n",
       "[1 rows x 338 columns]"
      ]
     },
     "execution_count": 3,
     "metadata": {},
     "output_type": "execute_result"
    },
    {
     "name": "stdout",
     "output_type": "stream",
     "text": [
      "time: 78 ms (started: 2023-06-30 18:22:30 +03:00)\n"
     ]
    }
   ],
   "source": [
    "# read dataset\n",
    "time_series = pd.read_csv('C:/Users/SK/Desktop/Diploma_Thesis/Datasets/San-Francisco-Yellow-Cabs/Files/time_series.txt',nrows=1)\n",
    "\n",
    "# drop unecessary columns\n",
    "time_series.drop([\"Traj ID\",\"Taxi ID\"],axis=1,inplace=True)\n",
    "\n",
    "# print first two rows\n",
    "time_series.head(2)"
   ]
  },
  {
   "cell_type": "code",
   "execution_count": 4,
   "id": "21c32321",
   "metadata": {},
   "outputs": [
    {
     "data": {
      "text/html": [
       "<div>\n",
       "<style scoped>\n",
       "    .dataframe tbody tr th:only-of-type {\n",
       "        vertical-align: middle;\n",
       "    }\n",
       "\n",
       "    .dataframe tbody tr th {\n",
       "        vertical-align: top;\n",
       "    }\n",
       "\n",
       "    .dataframe thead th {\n",
       "        text-align: right;\n",
       "    }\n",
       "</style>\n",
       "<table border=\"1\" class=\"dataframe\">\n",
       "  <thead>\n",
       "    <tr style=\"text-align: right;\">\n",
       "      <th></th>\n",
       "      <th>Path</th>\n",
       "      <th>Length</th>\n",
       "      <th>2008-05-18 00:00:00</th>\n",
       "      <th>2008-05-18 00:30:00</th>\n",
       "      <th>2008-05-18 01:00:00</th>\n",
       "      <th>2008-05-18 01:30:00</th>\n",
       "      <th>2008-05-18 02:00:00</th>\n",
       "      <th>2008-05-18 02:30:00</th>\n",
       "      <th>2008-05-18 03:00:00</th>\n",
       "      <th>2008-05-18 03:30:00</th>\n",
       "      <th>...</th>\n",
       "      <th>2008-05-24 19:00:00</th>\n",
       "      <th>2008-05-24 19:30:00</th>\n",
       "      <th>2008-05-24 20:00:00</th>\n",
       "      <th>2008-05-24 20:30:00</th>\n",
       "      <th>2008-05-24 21:00:00</th>\n",
       "      <th>2008-05-24 21:30:00</th>\n",
       "      <th>2008-05-24 22:00:00</th>\n",
       "      <th>2008-05-24 22:30:00</th>\n",
       "      <th>2008-05-24 23:00:00</th>\n",
       "      <th>2008-05-24 23:30:00</th>\n",
       "    </tr>\n",
       "  </thead>\n",
       "  <tbody>\n",
       "    <tr>\n",
       "      <th>0</th>\n",
       "      <td>[60678630, 60678630]</td>\n",
       "      <td>2</td>\n",
       "      <td>0</td>\n",
       "      <td>3</td>\n",
       "      <td>1</td>\n",
       "      <td>0</td>\n",
       "      <td>1</td>\n",
       "      <td>0</td>\n",
       "      <td>0</td>\n",
       "      <td>0</td>\n",
       "      <td>...</td>\n",
       "      <td>1</td>\n",
       "      <td>0</td>\n",
       "      <td>2</td>\n",
       "      <td>0</td>\n",
       "      <td>0</td>\n",
       "      <td>1</td>\n",
       "      <td>1</td>\n",
       "      <td>0</td>\n",
       "      <td>2</td>\n",
       "      <td>1</td>\n",
       "    </tr>\n",
       "  </tbody>\n",
       "</table>\n",
       "<p>1 rows × 338 columns</p>\n",
       "</div>"
      ],
      "text/plain": [
       "                   Path  Length  2008-05-18 00:00:00  2008-05-18 00:30:00  \\\n",
       "0  [60678630, 60678630]       2                    0                    3   \n",
       "\n",
       "   2008-05-18 01:00:00  2008-05-18 01:30:00  2008-05-18 02:00:00  \\\n",
       "0                    1                    0                    1   \n",
       "\n",
       "   2008-05-18 02:30:00  2008-05-18 03:00:00  2008-05-18 03:30:00  ...  \\\n",
       "0                    0                    0                    0  ...   \n",
       "\n",
       "   2008-05-24 19:00:00  2008-05-24 19:30:00  2008-05-24 20:00:00  \\\n",
       "0                    1                    0                    2   \n",
       "\n",
       "   2008-05-24 20:30:00  2008-05-24 21:00:00  2008-05-24 21:30:00  \\\n",
       "0                    0                    0                    1   \n",
       "\n",
       "   2008-05-24 22:00:00  2008-05-24 22:30:00  2008-05-24 23:00:00  \\\n",
       "0                    1                    0                    2   \n",
       "\n",
       "   2008-05-24 23:30:00  \n",
       "0                    1  \n",
       "\n",
       "[1 rows x 338 columns]"
      ]
     },
     "execution_count": 4,
     "metadata": {},
     "output_type": "execute_result"
    },
    {
     "name": "stdout",
     "output_type": "stream",
     "text": [
      "time: 94 ms (started: 2023-06-30 18:22:31 +03:00)\n"
     ]
    }
   ],
   "source": [
    "# this list contains the column names\n",
    "columns = [\"Path\",\"Length\"]\n",
    "\n",
    "# generate the columns of the dataset\n",
    "i =2\n",
    "while(True):\n",
    "    if i == 2:\n",
    "        columns.append(pd.to_datetime('2008-05-18 00:00:00'))\n",
    "    else:\n",
    "        columns.append(columns[i-1] + timedelta(seconds=1800))\n",
    "    \n",
    "    if (columns[i]>=pd.to_datetime('2008-05-24 23:59:59.000130')):\n",
    "        break\n",
    "    \n",
    "    i+=1\n",
    "\n",
    "# delete the last timestamp\n",
    "columns.pop()\n",
    "\n",
    "# assign new column names to our dataframe\n",
    "time_series.columns = columns\n",
    "\n",
    "# print first two rows\n",
    "time_series.head(2)"
   ]
  },
  {
   "cell_type": "markdown",
   "id": "377f6be1",
   "metadata": {},
   "source": [
    "### Transform the daraset"
   ]
  },
  {
   "cell_type": "code",
   "execution_count": 5,
   "id": "e783b449",
   "metadata": {},
   "outputs": [
    {
     "data": {
      "text/html": [
       "<div>\n",
       "<style scoped>\n",
       "    .dataframe tbody tr th:only-of-type {\n",
       "        vertical-align: middle;\n",
       "    }\n",
       "\n",
       "    .dataframe tbody tr th {\n",
       "        vertical-align: top;\n",
       "    }\n",
       "\n",
       "    .dataframe thead th {\n",
       "        text-align: right;\n",
       "    }\n",
       "</style>\n",
       "<table border=\"1\" class=\"dataframe\">\n",
       "  <thead>\n",
       "    <tr style=\"text-align: right;\">\n",
       "      <th></th>\n",
       "      <th>Path</th>\n",
       "      <th>Length</th>\n",
       "      <th>Traffic Flow</th>\n",
       "    </tr>\n",
       "    <tr>\n",
       "      <th>Time Column</th>\n",
       "      <th></th>\n",
       "      <th></th>\n",
       "      <th></th>\n",
       "    </tr>\n",
       "  </thead>\n",
       "  <tbody>\n",
       "    <tr>\n",
       "      <th>2008-05-18 00:00:00</th>\n",
       "      <td>[60678630, 60678630]</td>\n",
       "      <td>2</td>\n",
       "      <td>0</td>\n",
       "    </tr>\n",
       "    <tr>\n",
       "      <th>2008-05-22 18:00:00</th>\n",
       "      <td>[60678630, 60678630]</td>\n",
       "      <td>2</td>\n",
       "      <td>0</td>\n",
       "    </tr>\n",
       "    <tr>\n",
       "      <th>2008-05-22 17:30:00</th>\n",
       "      <td>[60678630, 60678630]</td>\n",
       "      <td>2</td>\n",
       "      <td>0</td>\n",
       "    </tr>\n",
       "    <tr>\n",
       "      <th>2008-05-22 17:00:00</th>\n",
       "      <td>[60678630, 60678630]</td>\n",
       "      <td>2</td>\n",
       "      <td>1</td>\n",
       "    </tr>\n",
       "    <tr>\n",
       "      <th>2008-05-22 16:30:00</th>\n",
       "      <td>[60678630, 60678630]</td>\n",
       "      <td>2</td>\n",
       "      <td>0</td>\n",
       "    </tr>\n",
       "  </tbody>\n",
       "</table>\n",
       "</div>"
      ],
      "text/plain": [
       "                                     Path  Length  Traffic Flow\n",
       "Time Column                                                    \n",
       "2008-05-18 00:00:00  [60678630, 60678630]       2             0\n",
       "2008-05-22 18:00:00  [60678630, 60678630]       2             0\n",
       "2008-05-22 17:30:00  [60678630, 60678630]       2             0\n",
       "2008-05-22 17:00:00  [60678630, 60678630]       2             1\n",
       "2008-05-22 16:30:00  [60678630, 60678630]       2             0"
      ]
     },
     "execution_count": 5,
     "metadata": {},
     "output_type": "execute_result"
    },
    {
     "name": "stdout",
     "output_type": "stream",
     "text": [
      "time: 47 ms (started: 2023-06-30 18:22:31 +03:00)\n"
     ]
    }
   ],
   "source": [
    "# reshape the data from column format to row format\n",
    "id_cols = ['Path', 'Length']\n",
    "time_cols = time_series.iloc[:,2:].columns\n",
    "time_series = time_series.melt(id_vars=id_cols, value_vars=time_cols, var_name='Time Column', value_name='Traffic Flow')\n",
    "time_series = time_series.set_index('Time Column')\n",
    "\n",
    "# convert the index to datetime\n",
    "time_series.index = pd.to_datetime(time_series.index)\n",
    "\n",
    "# sort rows by Path and Time\n",
    "time_series.sort_values(by=['Path'],inplace=True)\n",
    "\n",
    "# print first rows of the dataset\n",
    "time_series.head(5)"
   ]
  },
  {
   "cell_type": "markdown",
   "id": "998e580b",
   "metadata": {},
   "source": [
    "### Convert the time series dataset to a supervised problem"
   ]
  },
  {
   "cell_type": "code",
   "execution_count": 6,
   "id": "185a07d5",
   "metadata": {},
   "outputs": [
    {
     "name": "stdout",
     "output_type": "stream",
     "text": [
      "time: 16 ms (started: 2023-06-30 18:22:31 +03:00)\n"
     ]
    }
   ],
   "source": [
    "from pandas import DataFrame\n",
    "from pandas import concat\n",
    "\n",
    "def series_to_supervised(data, n_in=1, n_out=1, dropnan=True):\n",
    "    \"\"\"\n",
    "\tFrame a time series as a supervised learning dataset.\n",
    "\tArguments:\n",
    "\t\tdata: Sequence of observations as a list or NumPy array.\n",
    "\t\tn_in: Number of lag observations as input (X).\n",
    "\t\tn_out: Number of observations as output (y).\n",
    "\t\tdropnan: Boolean whether or not to drop rows with NaN values.\n",
    "\tReturns:\n",
    "\t\tPandas DataFrame of series framed for supervised learning.\n",
    "\t\"\"\"\n",
    "    n_vars = 1 if type(data) is list else data.shape[1]\n",
    "    df = DataFrame(data)\n",
    "    cols, names = list(), list()\n",
    "    # input sequence (t-n, ... t-1)\n",
    "    for i in range(n_in, 0, -1):\n",
    "        cols.append(df.shift(i))\n",
    "        names += [('Traffic Flow %d(t-%d)' % (j+1, i)) for j in range(n_vars)]\n",
    "    # forecast sequence (t, t+1, ... t+n)\n",
    "    for i in range(0, n_out):\n",
    "        cols.append(df.shift(-i))\n",
    "        if i == 0:\n",
    "            names += [('Traffic Flow %d(t)' % (j+1)) for j in range(n_vars)]\n",
    "        else:\n",
    "            names += [('Traffic Flow %d(t+%d)' % (j+1, i)) for j in range(n_vars)]\n",
    "    # put it all together\n",
    "    agg = concat(cols, axis=1)\n",
    "    agg.columns = names\n",
    "    # drop rows with NaN values\n",
    "    if dropnan:\n",
    "        agg.dropna(inplace=True)\n",
    "    return agg\n",
    "\n",
    "data = pd.DataFrame()\n",
    "\n",
    "for item in time_series['Path'].unique():\n",
    "    x = series_to_supervised(time_series[time_series['Path'] == item].drop(['Length','Path'],axis=1), 4,1)\n",
    "    x['Path'] = item\n",
    "    x['Length'] = time_series[time_series['Path'] == item]['Length']\n",
    "    \n",
    "    data = pd.concat([data,x])"
   ]
  },
  {
   "cell_type": "code",
   "execution_count": 7,
   "id": "2d4ff4a5",
   "metadata": {},
   "outputs": [
    {
     "name": "stdout",
     "output_type": "stream",
     "text": [
      "time: 437 ms (started: 2023-06-30 18:22:31 +03:00)\n"
     ]
    }
   ],
   "source": [
    "# convert path column from categorical to numerical\n",
    "from sklearn.preprocessing import LabelEncoder\n",
    "\n",
    "# create an instance of LabelEncoder\n",
    "label_encoder = LabelEncoder()\n",
    "\n",
    "# Fit label encoder on the 'Path' column\n",
    "data['Path'] = label_encoder.fit_transform(data['Path'])\n",
    "\n",
    "# sort the data based in Path column\n",
    "data = data.sort_values(by=['Path'])"
   ]
  },
  {
   "cell_type": "markdown",
   "id": "afb8ce79",
   "metadata": {},
   "source": [
    "### Feature Creation From Time Information"
   ]
  },
  {
   "cell_type": "code",
   "execution_count": 8,
   "id": "374a2db3",
   "metadata": {},
   "outputs": [
    {
     "name": "stdout",
     "output_type": "stream",
     "text": [
      "time: 15 ms (started: 2023-06-30 18:22:34 +03:00)\n"
     ]
    }
   ],
   "source": [
    "# We define some features that might be usefull to our research\n",
    "def create_features(df):\n",
    "    \"\"\"\n",
    "    Create time series features based on time series index.\n",
    "    \"\"\"\n",
    "    df = df.copy()\n",
    "    df['hour'] = df.index.hour\n",
    "    df['dayofweek'] = df.index.dayofweek\n",
    "    df['day'] = data.index.day\n",
    "    df['minute'] = data.index.minute\n",
    "    return df\n",
    "\n",
    "data = create_features(data)"
   ]
  },
  {
   "cell_type": "code",
   "execution_count": 9,
   "id": "8af7a374",
   "metadata": {},
   "outputs": [
    {
     "name": "stdout",
     "output_type": "stream",
     "text": [
      "time: 32 ms (started: 2023-06-30 18:22:35 +03:00)\n"
     ]
    }
   ],
   "source": [
    "data['rolling_mean'] = data.iloc[:,0:4].mean(axis=1)\n",
    "\n",
    "data['rolling_std'] = data.iloc[:,0:4].std(axis=1)\n",
    "data['rolling_percentile_25'] = data.iloc[:,0:4].quantile(0.25,axis=1)\n",
    "data['rolling_percentile_75'] = data.iloc[:,0:4].quantile(0.75,axis=1)\n",
    "\n",
    "# Circular Encoding for cyclic time features\n",
    "data['hour_sin'] = np.sin(2 * np.pi * data['hour'] / 24)\n",
    "data['hour_cos'] = np.cos(2 * np.pi * data['hour'] / 24)"
   ]
  },
  {
   "cell_type": "code",
   "execution_count": 13,
   "id": "8368371c",
   "metadata": {},
   "outputs": [
    {
     "name": "stdout",
     "output_type": "stream",
     "text": [
      "time: 0 ns (started: 2023-06-30 18:25:13 +03:00)\n"
     ]
    }
   ],
   "source": [
    "data = data.sort_values(by=['Path','Time Column'])"
   ]
  },
  {
   "cell_type": "markdown",
   "id": "f7951058",
   "metadata": {},
   "source": [
    "### Train - Test split"
   ]
  },
  {
   "cell_type": "code",
   "execution_count": 14,
   "id": "464b5672",
   "metadata": {},
   "outputs": [
    {
     "name": "stdout",
     "output_type": "stream",
     "text": [
      "Train set shape:  (284, 17)\n",
      "Test set shape:  (48, 17)\n",
      "time: 0 ns (started: 2023-06-30 18:25:15 +03:00)\n"
     ]
    }
   ],
   "source": [
    "# define train data\n",
    "train = data.loc[data.index < '2008-05-24 00:00:00']\n",
    "train.sort_index(inplace=True)\n",
    "\n",
    "# define test data\n",
    "test = data.loc[data.index >= '2008-05-24 00:00:00']\n",
    "test.sort_index(inplace=True)\n",
    "\n",
    "print(\"Train set shape: \",train.shape)\n",
    "print(\"Test set shape: \",test.shape)"
   ]
  },
  {
   "cell_type": "markdown",
   "id": "247bbcc7",
   "metadata": {},
   "source": [
    "### Define Features and Labels"
   ]
  },
  {
   "cell_type": "code",
   "execution_count": 15,
   "id": "506d8ded",
   "metadata": {},
   "outputs": [
    {
     "name": "stdout",
     "output_type": "stream",
     "text": [
      "time: 0 ns (started: 2023-06-30 18:25:16 +03:00)\n"
     ]
    }
   ],
   "source": [
    "# define features\n",
    "features = ['Traffic Flow 1(t-4)',\n",
    "       'Traffic Flow 1(t-3)', 'Traffic Flow 1(t-2)', 'Traffic Flow 1(t-1)',\n",
    "        'Path', 'Length', 'hour', 'dayofweek', 'day',\n",
    "       'minute', 'rolling_mean', 'rolling_std', 'rolling_percentile_25',\n",
    "       'rolling_percentile_75', 'hour_sin', 'hour_cos']\n",
    "\n",
    "# define labels\n",
    "labels = ['Traffic Flow 1(t)']"
   ]
  },
  {
   "cell_type": "code",
   "execution_count": 16,
   "id": "87009133",
   "metadata": {},
   "outputs": [
    {
     "name": "stdout",
     "output_type": "stream",
     "text": [
      "time: 47 ms (started: 2023-06-30 18:25:16 +03:00)\n"
     ]
    }
   ],
   "source": [
    "from sklearn.preprocessing import MinMaxScaler\n",
    "\n",
    "# Normalize the input data\n",
    "scaler = MinMaxScaler()\n",
    "\n",
    "# create train set\n",
    "X_train = scaler.fit_transform(train[features])\n",
    "y_train = scaler.fit_transform(train[labels])\n",
    "\n",
    "# create test set\n",
    "X_test = scaler.fit_transform(test[features])\n",
    "y_test = scaler.fit_transform(test[labels])"
   ]
  },
  {
   "cell_type": "markdown",
   "id": "269ec4d5",
   "metadata": {},
   "source": [
    "### Train a MPL"
   ]
  },
  {
   "cell_type": "code",
   "execution_count": 17,
   "id": "97842c45",
   "metadata": {},
   "outputs": [
    {
     "name": "stdout",
     "output_type": "stream",
     "text": [
      "time: 5.27 s (started: 2023-06-30 18:25:17 +03:00)\n"
     ]
    }
   ],
   "source": [
    "from tensorflow import keras\n",
    "from tensorflow.keras import layers\n",
    "from tensorflow.keras.callbacks import EarlyStopping"
   ]
  },
  {
   "cell_type": "code",
   "execution_count": 22,
   "id": "864c1875",
   "metadata": {},
   "outputs": [
    {
     "name": "stdout",
     "output_type": "stream",
     "text": [
      "Epoch 1/32\n",
      "9/9 [==============================] - 1s 22ms/step - loss: 0.0467 - val_loss: 0.0650\n",
      "Epoch 2/32\n",
      "9/9 [==============================] - 0s 8ms/step - loss: 0.0475 - val_loss: 0.0644\n",
      "Epoch 3/32\n",
      "9/9 [==============================] - 0s 10ms/step - loss: 0.0436 - val_loss: 0.0634\n",
      "Epoch 4/32\n",
      "9/9 [==============================] - 0s 8ms/step - loss: 0.0381 - val_loss: 0.0576\n",
      "Epoch 5/32\n",
      "9/9 [==============================] - 0s 8ms/step - loss: 0.0358 - val_loss: 0.0554\n",
      "Epoch 6/32\n",
      "9/9 [==============================] - 0s 8ms/step - loss: 0.0318 - val_loss: 0.0546\n",
      "Epoch 7/32\n",
      "9/9 [==============================] - 0s 8ms/step - loss: 0.0278 - val_loss: 0.0538\n",
      "Epoch 8/32\n",
      "9/9 [==============================] - 0s 8ms/step - loss: 0.0296 - val_loss: 0.0526\n",
      "Epoch 9/32\n",
      "9/9 [==============================] - 0s 7ms/step - loss: 0.0319 - val_loss: 0.0526\n",
      "Epoch 10/32\n",
      "9/9 [==============================] - 0s 7ms/step - loss: 0.0299 - val_loss: 0.0529\n",
      "Epoch 11/32\n",
      "9/9 [==============================] - 0s 7ms/step - loss: 0.0258 - val_loss: 0.0522\n",
      "Epoch 12/32\n",
      "9/9 [==============================] - 0s 8ms/step - loss: 0.0287 - val_loss: 0.0511\n",
      "Epoch 13/32\n",
      "9/9 [==============================] - 0s 7ms/step - loss: 0.0237 - val_loss: 0.0514\n",
      "Epoch 14/32\n",
      "9/9 [==============================] - 0s 15ms/step - loss: 0.0281 - val_loss: 0.0523\n",
      "Epoch 15/32\n",
      "9/9 [==============================] - 0s 10ms/step - loss: 0.0227 - val_loss: 0.0519\n",
      "time: 2.03 s (started: 2023-06-30 18:25:49 +03:00)\n"
     ]
    }
   ],
   "source": [
    "# Define the MLP model\n",
    "model = keras.Sequential()\n",
    "model.add(layers.Dense(42, activation='relu', input_shape=(X_train.shape[1],)))\n",
    "model.add(layers.Dropout(0.2))  # Dropout layer with dropout rate of 0.2\n",
    "model.add(layers.Dense(1))\n",
    "\n",
    "# Compile the model\n",
    "model.compile(optimizer='adam', loss='mse')  # Using mean squared error (MSE) as the loss function\n",
    "\n",
    "# Define early stopping callback\n",
    "early_stopping = EarlyStopping(patience=3, monitor='val_loss')\n",
    "\n",
    "# Train the model with early stopping\n",
    "history = model.fit(X_train, y_train, epochs=32, batch_size=32, validation_data=(X_test, y_test), callbacks=[early_stopping])"
   ]
  },
  {
   "cell_type": "code",
   "execution_count": 20,
   "id": "bbb93e1c",
   "metadata": {},
   "outputs": [
    {
     "name": "stdout",
     "output_type": "stream",
     "text": [
      "2/2 [==============================] - 0s 5ms/step\n",
      "RMSE: 0.25872121832833195\n",
      "time: 282 ms (started: 2023-06-30 18:25:34 +03:00)\n"
     ]
    }
   ],
   "source": [
    "from sklearn.metrics import mean_squared_error\n",
    "\n",
    "# Make predictions\n",
    "y_pred = model.predict(X_test)\n",
    "\n",
    "# Calculate RMSE\n",
    "rmse = np.sqrt(mean_squared_error(y_test, y_pred))\n",
    "print(f\"RMSE: {rmse}\")\n"
   ]
  },
  {
   "cell_type": "code",
   "execution_count": 21,
   "id": "1469693e",
   "metadata": {},
   "outputs": [
    {
     "data": {
      "image/png": "[encoded data removed]",
      "text/plain": [
       "<Figure size 1080x432 with 1 Axes>"
      ]
     },
     "metadata": {
      "needs_background": "light"
     },
     "output_type": "display_data"
    },
    {
     "name": "stdout",
     "output_type": "stream",
     "text": [
      "time: 375 ms (started: 2023-06-30 18:25:35 +03:00)\n"
     ]
    }
   ],
   "source": [
    "# Plot actual vs. predicted values\n",
    "plt.figure(figsize=(15, 6))\n",
    "plt.plot(y_test, label='Actual',color='orange')\n",
    "plt.plot(y_pred, label='Predicted',color='blue',alpha=0.4)\n",
    "plt.xlabel('Time')\n",
    "plt.ylabel('Traffic Flow')\n",
    "plt.title('Actual vs. Predicted Traffic Flow')\n",
    "plt.legend()\n",
    "plt.show()\n"
   ]
  },
  {
   "cell_type": "code",
   "execution_count": null,
   "id": "04f2020e",
   "metadata": {},
   "outputs": [],
   "source": [
    "y_test"
   ]
  },
  {
   "cell_type": "code",
   "execution_count": null,
   "id": "45eee017",
   "metadata": {},
   "outputs": [],
   "source": [
    "y_pred"
   ]
  },
  {
   "cell_type": "code",
   "execution_count": null,
   "id": "8ea39dbe",
   "metadata": {},
   "outputs": [],
   "source": []
  }
 ],
 "metadata": {
  "kernelspec": {
   "display_name": "DataAnalytics",
   "language": "python",
   "name": "dataanalytics"
  },
  "language_info": {
   "codemirror_mode": {
    "name": "ipython",
    "version": 3
   },
   "file_extension": ".py",
   "mimetype": "text/x-python",
   "name": "python",
   "nbconvert_exporter": "python",
   "pygments_lexer": "ipython3",
   "version": "3.11.3"
  }
 },
 "nbformat": 4,
 "nbformat_minor": 5
}
