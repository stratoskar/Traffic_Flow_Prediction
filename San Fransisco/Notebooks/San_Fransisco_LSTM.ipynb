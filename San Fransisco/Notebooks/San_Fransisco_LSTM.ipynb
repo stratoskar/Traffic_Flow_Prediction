{
 "cells": [
  {
   "cell_type": "markdown",
   "id": "6fafcf1a",
   "metadata": {},
   "source": [
    "### Phase 4: Build LSTM model for forecast"
   ]
  },
  {
   "cell_type": "code",
   "execution_count": 1,
   "id": "045ff8c4",
   "metadata": {},
   "outputs": [
    {
     "name": "stdout",
     "output_type": "stream",
     "text": [
      "time: 0 ns (started: 2023-06-30 14:30:19 +03:00)\n"
     ]
    }
   ],
   "source": [
    "# measure execution time\n",
    "%load_ext autotime"
   ]
  },
  {
   "cell_type": "code",
   "execution_count": 2,
   "id": "ec548328",
   "metadata": {},
   "outputs": [
    {
     "name": "stdout",
     "output_type": "stream",
     "text": [
      "time: 2.84 s (started: 2023-06-30 14:30:19 +03:00)\n"
     ]
    }
   ],
   "source": [
    "# standard imports\n",
    "import warnings\n",
    "import pandas as pd\n",
    "import numpy as np\n",
    "import matplotlib.pyplot as plt\n",
    "import seaborn as sns\n",
    "from datetime import datetime, timedelta"
   ]
  },
  {
   "cell_type": "code",
   "execution_count": 3,
   "id": "9f064d47",
   "metadata": {},
   "outputs": [
    {
     "name": "stdout",
     "output_type": "stream",
     "text": [
      "time: 0 ns (started: 2023-06-30 14:30:22 +03:00)\n"
     ]
    }
   ],
   "source": [
    "# Disable all warning messages\n",
    "warnings.filterwarnings(\"ignore\")"
   ]
  },
  {
   "cell_type": "markdown",
   "id": "e4511a38",
   "metadata": {},
   "source": [
    "### Load the dataset"
   ]
  },
  {
   "cell_type": "code",
   "execution_count": 78,
   "id": "7dd03491",
   "metadata": {},
   "outputs": [
    {
     "data": {
      "text/plain": [
       "(1000, 338)"
      ]
     },
     "execution_count": 78,
     "metadata": {},
     "output_type": "execute_result"
    },
    {
     "name": "stdout",
     "output_type": "stream",
     "text": [
      "time: 78 ms (started: 2023-06-30 14:39:11 +03:00)\n"
     ]
    }
   ],
   "source": [
    "# read dataset\n",
    "time_series = pd.read_csv('C:/Users/SK/Desktop/Diploma_Thesis/Datasets/San-Francisco-Yellow-Cabs/Files/time_series.txt')\n",
    "\n",
    "# drop unecessary columns\n",
    "time_series.drop([\"Traj ID\",\"Taxi ID\"],axis=1,inplace=True)\n",
    "\n",
    "# print first two rows\n",
    "time_series.shape"
   ]
  },
  {
   "cell_type": "markdown",
   "id": "4caab9b6",
   "metadata": {},
   "source": [
    "### Preprocessing"
   ]
  },
  {
   "cell_type": "code",
   "execution_count": 79,
   "id": "21c32321",
   "metadata": {},
   "outputs": [
    {
     "data": {
      "text/plain": [
       "(1000, 338)"
      ]
     },
     "execution_count": 79,
     "metadata": {},
     "output_type": "execute_result"
    },
    {
     "name": "stdout",
     "output_type": "stream",
     "text": [
      "time: 79 ms (started: 2023-06-30 14:39:11 +03:00)\n"
     ]
    }
   ],
   "source": [
    "# this list contains the column names\n",
    "columns = [\"Path\",\"Length\"]\n",
    "\n",
    "# generate the columns of the dataset\n",
    "i =2\n",
    "while(True):\n",
    "    if i == 2:\n",
    "        columns.append(pd.to_datetime('2008-05-18 00:00:00'))\n",
    "    else:\n",
    "        columns.append(columns[i-1] + timedelta(seconds=1800))\n",
    "    \n",
    "    if (columns[i]>=pd.to_datetime('2008-05-24 23:59:59.000130')):\n",
    "        break\n",
    "    \n",
    "    i+=1\n",
    "\n",
    "# delete the last timestamp\n",
    "columns.pop()\n",
    "\n",
    "# assign new column names to our dataframe\n",
    "time_series.columns = columns\n",
    "\n",
    "# print first two rows\n",
    "time_series.shape"
   ]
  },
  {
   "cell_type": "markdown",
   "id": "377f6be1",
   "metadata": {},
   "source": [
    "#### Transform the dataset"
   ]
  },
  {
   "cell_type": "code",
   "execution_count": 80,
   "id": "4d1da600",
   "metadata": {},
   "outputs": [
    {
     "name": "stdout",
     "output_type": "stream",
     "text": [
      "time: 0 ns (started: 2023-06-30 14:39:13 +03:00)\n"
     ]
    }
   ],
   "source": [
    "data = pd.DataFrame(index=pd.to_datetime(time_series.iloc[:,2:].columns))"
   ]
  },
  {
   "cell_type": "code",
   "execution_count": 81,
   "id": "15df0b03",
   "metadata": {},
   "outputs": [
    {
     "name": "stdout",
     "output_type": "stream",
     "text": [
      "time: 3.55 s (started: 2023-06-30 14:39:14 +03:00)\n"
     ]
    }
   ],
   "source": [
    "# reshape dataset\n",
    "for i in range (time_series.shape[0]):\n",
    "    data['Path_'+str(i)] = i\n",
    "    data['Length_'+str(i)] = time_series.loc[i,'Length']\n",
    "    data['Traffic_Flow_'+str(i)] = time_series.iloc[i,2:]"
   ]
  },
  {
   "cell_type": "code",
   "execution_count": 82,
   "id": "471fc61c",
   "metadata": {},
   "outputs": [
    {
     "name": "stdout",
     "output_type": "stream",
     "text": [
      "time: 171 ms (started: 2023-06-30 14:39:17 +03:00)\n"
     ]
    }
   ],
   "source": [
    "# convert to integers\n",
    "data = data.astype(int)"
   ]
  },
  {
   "cell_type": "code",
   "execution_count": 83,
   "id": "3abb1ef3",
   "metadata": {},
   "outputs": [
    {
     "data": {
      "text/plain": [
       "(336, 3000)"
      ]
     },
     "execution_count": 83,
     "metadata": {},
     "output_type": "execute_result"
    },
    {
     "name": "stdout",
     "output_type": "stream",
     "text": [
      "time: 0 ns (started: 2023-06-30 14:39:17 +03:00)\n"
     ]
    }
   ],
   "source": [
    "data.shape"
   ]
  },
  {
   "cell_type": "markdown",
   "id": "880244f8",
   "metadata": {},
   "source": [
    "#### Feature extraction from timestamps"
   ]
  },
  {
   "cell_type": "code",
   "execution_count": 84,
   "id": "fa5fcb31",
   "metadata": {},
   "outputs": [
    {
     "name": "stdout",
     "output_type": "stream",
     "text": [
      "time: 62 ms (started: 2023-06-30 14:39:20 +03:00)\n"
     ]
    }
   ],
   "source": [
    "# we define some features that might be usefull to our research\n",
    "def create_features(df):\n",
    "    \"\"\"\n",
    "    Create time series features based on time series index.\n",
    "    \"\"\"\n",
    "    df = df.copy()\n",
    "    df['hour'] = df.index.hour\n",
    "    df['dayofweek'] = df.index.dayofweek\n",
    "    df['year'] = df.index.year\n",
    "    df['day'] = data.index.day\n",
    "    df['minute'] = data.index.minute\n",
    "    return df\n",
    "\n",
    "data = create_features(data)"
   ]
  },
  {
   "cell_type": "code",
   "execution_count": 85,
   "id": "f6b86f12",
   "metadata": {},
   "outputs": [
    {
     "name": "stdout",
     "output_type": "stream",
     "text": [
      "time: 15 ms (started: 2023-06-30 14:39:21 +03:00)\n"
     ]
    }
   ],
   "source": [
    "# Circular Encoding for cyclic time features\n",
    "data['hour_sin'] = np.sin(2 * np.pi * data['hour'] / 24)\n",
    "data['hour_cos'] = np.cos(2 * np.pi * data['hour'] / 24)"
   ]
  },
  {
   "cell_type": "code",
   "execution_count": 86,
   "id": "19eb245e",
   "metadata": {},
   "outputs": [
    {
     "name": "stdout",
     "output_type": "stream",
     "text": [
      "time: 0 ns (started: 2023-06-30 14:39:59 +03:00)\n"
     ]
    }
   ],
   "source": [
    "data['weekend'] = (data['dayofweek'] >= 5).astype(int)\n",
    "data['3_hour_interval'] = np.random.randint(1, 9, size=len(data))"
   ]
  },
  {
   "cell_type": "code",
   "execution_count": 87,
   "id": "1a64b420",
   "metadata": {},
   "outputs": [
    {
     "data": {
      "text/html": [
       "<div>\n",
       "<style scoped>\n",
       "    .dataframe tbody tr th:only-of-type {\n",
       "        vertical-align: middle;\n",
       "    }\n",
       "\n",
       "    .dataframe tbody tr th {\n",
       "        vertical-align: top;\n",
       "    }\n",
       "\n",
       "    .dataframe thead th {\n",
       "        text-align: right;\n",
       "    }\n",
       "</style>\n",
       "<table border=\"1\" class=\"dataframe\">\n",
       "  <thead>\n",
       "    <tr style=\"text-align: right;\">\n",
       "      <th></th>\n",
       "      <th>Path_0</th>\n",
       "      <th>Length_0</th>\n",
       "      <th>Traffic_Flow_0</th>\n",
       "      <th>Path_1</th>\n",
       "      <th>Length_1</th>\n",
       "      <th>Traffic_Flow_1</th>\n",
       "      <th>Path_2</th>\n",
       "      <th>Length_2</th>\n",
       "      <th>Traffic_Flow_2</th>\n",
       "      <th>Path_3</th>\n",
       "      <th>...</th>\n",
       "      <th>Traffic_Flow_999</th>\n",
       "      <th>hour</th>\n",
       "      <th>dayofweek</th>\n",
       "      <th>year</th>\n",
       "      <th>day</th>\n",
       "      <th>minute</th>\n",
       "      <th>hour_sin</th>\n",
       "      <th>hour_cos</th>\n",
       "      <th>weekend</th>\n",
       "      <th>3_hour_interval</th>\n",
       "    </tr>\n",
       "  </thead>\n",
       "  <tbody>\n",
       "    <tr>\n",
       "      <th>2008-05-18 00:00:00</th>\n",
       "      <td>0</td>\n",
       "      <td>2</td>\n",
       "      <td>0</td>\n",
       "      <td>1</td>\n",
       "      <td>2</td>\n",
       "      <td>4</td>\n",
       "      <td>2</td>\n",
       "      <td>5</td>\n",
       "      <td>2</td>\n",
       "      <td>3</td>\n",
       "      <td>...</td>\n",
       "      <td>1</td>\n",
       "      <td>0</td>\n",
       "      <td>6</td>\n",
       "      <td>2008</td>\n",
       "      <td>18</td>\n",
       "      <td>0</td>\n",
       "      <td>0.000000</td>\n",
       "      <td>1.000000</td>\n",
       "      <td>1</td>\n",
       "      <td>7</td>\n",
       "    </tr>\n",
       "    <tr>\n",
       "      <th>2008-05-18 00:30:00</th>\n",
       "      <td>0</td>\n",
       "      <td>2</td>\n",
       "      <td>3</td>\n",
       "      <td>1</td>\n",
       "      <td>2</td>\n",
       "      <td>9</td>\n",
       "      <td>2</td>\n",
       "      <td>5</td>\n",
       "      <td>3</td>\n",
       "      <td>3</td>\n",
       "      <td>...</td>\n",
       "      <td>0</td>\n",
       "      <td>0</td>\n",
       "      <td>6</td>\n",
       "      <td>2008</td>\n",
       "      <td>18</td>\n",
       "      <td>30</td>\n",
       "      <td>0.000000</td>\n",
       "      <td>1.000000</td>\n",
       "      <td>1</td>\n",
       "      <td>4</td>\n",
       "    </tr>\n",
       "    <tr>\n",
       "      <th>2008-05-18 01:00:00</th>\n",
       "      <td>0</td>\n",
       "      <td>2</td>\n",
       "      <td>1</td>\n",
       "      <td>1</td>\n",
       "      <td>2</td>\n",
       "      <td>7</td>\n",
       "      <td>2</td>\n",
       "      <td>5</td>\n",
       "      <td>3</td>\n",
       "      <td>3</td>\n",
       "      <td>...</td>\n",
       "      <td>2</td>\n",
       "      <td>1</td>\n",
       "      <td>6</td>\n",
       "      <td>2008</td>\n",
       "      <td>18</td>\n",
       "      <td>0</td>\n",
       "      <td>0.258819</td>\n",
       "      <td>0.965926</td>\n",
       "      <td>1</td>\n",
       "      <td>5</td>\n",
       "    </tr>\n",
       "    <tr>\n",
       "      <th>2008-05-18 01:30:00</th>\n",
       "      <td>0</td>\n",
       "      <td>2</td>\n",
       "      <td>0</td>\n",
       "      <td>1</td>\n",
       "      <td>2</td>\n",
       "      <td>7</td>\n",
       "      <td>2</td>\n",
       "      <td>5</td>\n",
       "      <td>4</td>\n",
       "      <td>3</td>\n",
       "      <td>...</td>\n",
       "      <td>0</td>\n",
       "      <td>1</td>\n",
       "      <td>6</td>\n",
       "      <td>2008</td>\n",
       "      <td>18</td>\n",
       "      <td>30</td>\n",
       "      <td>0.258819</td>\n",
       "      <td>0.965926</td>\n",
       "      <td>1</td>\n",
       "      <td>5</td>\n",
       "    </tr>\n",
       "    <tr>\n",
       "      <th>2008-05-18 02:00:00</th>\n",
       "      <td>0</td>\n",
       "      <td>2</td>\n",
       "      <td>1</td>\n",
       "      <td>1</td>\n",
       "      <td>2</td>\n",
       "      <td>5</td>\n",
       "      <td>2</td>\n",
       "      <td>5</td>\n",
       "      <td>3</td>\n",
       "      <td>3</td>\n",
       "      <td>...</td>\n",
       "      <td>0</td>\n",
       "      <td>2</td>\n",
       "      <td>6</td>\n",
       "      <td>2008</td>\n",
       "      <td>18</td>\n",
       "      <td>0</td>\n",
       "      <td>0.500000</td>\n",
       "      <td>0.866025</td>\n",
       "      <td>1</td>\n",
       "      <td>2</td>\n",
       "    </tr>\n",
       "    <tr>\n",
       "      <th>...</th>\n",
       "      <td>...</td>\n",
       "      <td>...</td>\n",
       "      <td>...</td>\n",
       "      <td>...</td>\n",
       "      <td>...</td>\n",
       "      <td>...</td>\n",
       "      <td>...</td>\n",
       "      <td>...</td>\n",
       "      <td>...</td>\n",
       "      <td>...</td>\n",
       "      <td>...</td>\n",
       "      <td>...</td>\n",
       "      <td>...</td>\n",
       "      <td>...</td>\n",
       "      <td>...</td>\n",
       "      <td>...</td>\n",
       "      <td>...</td>\n",
       "      <td>...</td>\n",
       "      <td>...</td>\n",
       "      <td>...</td>\n",
       "      <td>...</td>\n",
       "    </tr>\n",
       "    <tr>\n",
       "      <th>2008-05-24 21:30:00</th>\n",
       "      <td>0</td>\n",
       "      <td>2</td>\n",
       "      <td>1</td>\n",
       "      <td>1</td>\n",
       "      <td>2</td>\n",
       "      <td>6</td>\n",
       "      <td>2</td>\n",
       "      <td>5</td>\n",
       "      <td>2</td>\n",
       "      <td>3</td>\n",
       "      <td>...</td>\n",
       "      <td>0</td>\n",
       "      <td>21</td>\n",
       "      <td>5</td>\n",
       "      <td>2008</td>\n",
       "      <td>24</td>\n",
       "      <td>30</td>\n",
       "      <td>-0.707107</td>\n",
       "      <td>0.707107</td>\n",
       "      <td>1</td>\n",
       "      <td>2</td>\n",
       "    </tr>\n",
       "    <tr>\n",
       "      <th>2008-05-24 22:00:00</th>\n",
       "      <td>0</td>\n",
       "      <td>2</td>\n",
       "      <td>1</td>\n",
       "      <td>1</td>\n",
       "      <td>2</td>\n",
       "      <td>0</td>\n",
       "      <td>2</td>\n",
       "      <td>5</td>\n",
       "      <td>3</td>\n",
       "      <td>3</td>\n",
       "      <td>...</td>\n",
       "      <td>0</td>\n",
       "      <td>22</td>\n",
       "      <td>5</td>\n",
       "      <td>2008</td>\n",
       "      <td>24</td>\n",
       "      <td>0</td>\n",
       "      <td>-0.500000</td>\n",
       "      <td>0.866025</td>\n",
       "      <td>1</td>\n",
       "      <td>3</td>\n",
       "    </tr>\n",
       "    <tr>\n",
       "      <th>2008-05-24 22:30:00</th>\n",
       "      <td>0</td>\n",
       "      <td>2</td>\n",
       "      <td>0</td>\n",
       "      <td>1</td>\n",
       "      <td>2</td>\n",
       "      <td>4</td>\n",
       "      <td>2</td>\n",
       "      <td>5</td>\n",
       "      <td>1</td>\n",
       "      <td>3</td>\n",
       "      <td>...</td>\n",
       "      <td>0</td>\n",
       "      <td>22</td>\n",
       "      <td>5</td>\n",
       "      <td>2008</td>\n",
       "      <td>24</td>\n",
       "      <td>30</td>\n",
       "      <td>-0.500000</td>\n",
       "      <td>0.866025</td>\n",
       "      <td>1</td>\n",
       "      <td>4</td>\n",
       "    </tr>\n",
       "    <tr>\n",
       "      <th>2008-05-24 23:00:00</th>\n",
       "      <td>0</td>\n",
       "      <td>2</td>\n",
       "      <td>2</td>\n",
       "      <td>1</td>\n",
       "      <td>2</td>\n",
       "      <td>4</td>\n",
       "      <td>2</td>\n",
       "      <td>5</td>\n",
       "      <td>1</td>\n",
       "      <td>3</td>\n",
       "      <td>...</td>\n",
       "      <td>0</td>\n",
       "      <td>23</td>\n",
       "      <td>5</td>\n",
       "      <td>2008</td>\n",
       "      <td>24</td>\n",
       "      <td>0</td>\n",
       "      <td>-0.258819</td>\n",
       "      <td>0.965926</td>\n",
       "      <td>1</td>\n",
       "      <td>5</td>\n",
       "    </tr>\n",
       "    <tr>\n",
       "      <th>2008-05-24 23:30:00</th>\n",
       "      <td>0</td>\n",
       "      <td>2</td>\n",
       "      <td>1</td>\n",
       "      <td>1</td>\n",
       "      <td>2</td>\n",
       "      <td>4</td>\n",
       "      <td>2</td>\n",
       "      <td>5</td>\n",
       "      <td>0</td>\n",
       "      <td>3</td>\n",
       "      <td>...</td>\n",
       "      <td>0</td>\n",
       "      <td>23</td>\n",
       "      <td>5</td>\n",
       "      <td>2008</td>\n",
       "      <td>24</td>\n",
       "      <td>30</td>\n",
       "      <td>-0.258819</td>\n",
       "      <td>0.965926</td>\n",
       "      <td>1</td>\n",
       "      <td>4</td>\n",
       "    </tr>\n",
       "  </tbody>\n",
       "</table>\n",
       "<p>336 rows × 3009 columns</p>\n",
       "</div>"
      ],
      "text/plain": [
       "                     Path_0  Length_0  Traffic_Flow_0  Path_1  Length_1  \\\n",
       "2008-05-18 00:00:00       0         2               0       1         2   \n",
       "2008-05-18 00:30:00       0         2               3       1         2   \n",
       "2008-05-18 01:00:00       0         2               1       1         2   \n",
       "2008-05-18 01:30:00       0         2               0       1         2   \n",
       "2008-05-18 02:00:00       0         2               1       1         2   \n",
       "...                     ...       ...             ...     ...       ...   \n",
       "2008-05-24 21:30:00       0         2               1       1         2   \n",
       "2008-05-24 22:00:00       0         2               1       1         2   \n",
       "2008-05-24 22:30:00       0         2               0       1         2   \n",
       "2008-05-24 23:00:00       0         2               2       1         2   \n",
       "2008-05-24 23:30:00       0         2               1       1         2   \n",
       "\n",
       "                     Traffic_Flow_1  Path_2  Length_2  Traffic_Flow_2  Path_3  \\\n",
       "2008-05-18 00:00:00               4       2         5               2       3   \n",
       "2008-05-18 00:30:00               9       2         5               3       3   \n",
       "2008-05-18 01:00:00               7       2         5               3       3   \n",
       "2008-05-18 01:30:00               7       2         5               4       3   \n",
       "2008-05-18 02:00:00               5       2         5               3       3   \n",
       "...                             ...     ...       ...             ...     ...   \n",
       "2008-05-24 21:30:00               6       2         5               2       3   \n",
       "2008-05-24 22:00:00               0       2         5               3       3   \n",
       "2008-05-24 22:30:00               4       2         5               1       3   \n",
       "2008-05-24 23:00:00               4       2         5               1       3   \n",
       "2008-05-24 23:30:00               4       2         5               0       3   \n",
       "\n",
       "                     ...  Traffic_Flow_999  hour  dayofweek  year  day  \\\n",
       "2008-05-18 00:00:00  ...                 1     0          6  2008   18   \n",
       "2008-05-18 00:30:00  ...                 0     0          6  2008   18   \n",
       "2008-05-18 01:00:00  ...                 2     1          6  2008   18   \n",
       "2008-05-18 01:30:00  ...                 0     1          6  2008   18   \n",
       "2008-05-18 02:00:00  ...                 0     2          6  2008   18   \n",
       "...                  ...               ...   ...        ...   ...  ...   \n",
       "2008-05-24 21:30:00  ...                 0    21          5  2008   24   \n",
       "2008-05-24 22:00:00  ...                 0    22          5  2008   24   \n",
       "2008-05-24 22:30:00  ...                 0    22          5  2008   24   \n",
       "2008-05-24 23:00:00  ...                 0    23          5  2008   24   \n",
       "2008-05-24 23:30:00  ...                 0    23          5  2008   24   \n",
       "\n",
       "                     minute  hour_sin  hour_cos  weekend  3_hour_interval  \n",
       "2008-05-18 00:00:00       0  0.000000  1.000000        1                7  \n",
       "2008-05-18 00:30:00      30  0.000000  1.000000        1                4  \n",
       "2008-05-18 01:00:00       0  0.258819  0.965926        1                5  \n",
       "2008-05-18 01:30:00      30  0.258819  0.965926        1                5  \n",
       "2008-05-18 02:00:00       0  0.500000  0.866025        1                2  \n",
       "...                     ...       ...       ...      ...              ...  \n",
       "2008-05-24 21:30:00      30 -0.707107  0.707107        1                2  \n",
       "2008-05-24 22:00:00       0 -0.500000  0.866025        1                3  \n",
       "2008-05-24 22:30:00      30 -0.500000  0.866025        1                4  \n",
       "2008-05-24 23:00:00       0 -0.258819  0.965926        1                5  \n",
       "2008-05-24 23:30:00      30 -0.258819  0.965926        1                4  \n",
       "\n",
       "[336 rows x 3009 columns]"
      ]
     },
     "execution_count": 87,
     "metadata": {},
     "output_type": "execute_result"
    },
    {
     "name": "stdout",
     "output_type": "stream",
     "text": [
      "time: 31 ms (started: 2023-06-30 14:40:01 +03:00)\n"
     ]
    }
   ],
   "source": [
    "data"
   ]
  },
  {
   "cell_type": "code",
   "execution_count": 157,
   "id": "0d644192",
   "metadata": {},
   "outputs": [
    {
     "ename": "KeyError",
     "evalue": "\"['hour_sin', 'hour_cos'] not in index\"",
     "output_type": "error",
     "traceback": [
      "\u001b[1;31m---------------------------------------------------------------------------\u001b[0m",
      "\u001b[1;31mKeyError\u001b[0m                                  Traceback (most recent call last)",
      "Cell \u001b[1;32mIn[157], line 1\u001b[0m\n\u001b[1;32m----> 1\u001b[0m data \u001b[38;5;241m=\u001b[39m data[[\u001b[38;5;124m'\u001b[39m\u001b[38;5;124mTraffic_Flow_178\u001b[39m\u001b[38;5;124m'\u001b[39m,\u001b[38;5;124m'\u001b[39m\u001b[38;5;124m3_hour_interval\u001b[39m\u001b[38;5;124m'\u001b[39m,\u001b[38;5;124m'\u001b[39m\u001b[38;5;124mweekend\u001b[39m\u001b[38;5;124m'\u001b[39m,\u001b[38;5;124m'\u001b[39m\u001b[38;5;124mhour_sin\u001b[39m\u001b[38;5;124m'\u001b[39m,\u001b[38;5;124m'\u001b[39m\u001b[38;5;124mhour_cos\u001b[39m\u001b[38;5;124m'\u001b[39m]]\n\u001b[0;32m      3\u001b[0m \u001b[38;5;66;03m# define train data\u001b[39;00m\n\u001b[0;32m      4\u001b[0m train \u001b[38;5;241m=\u001b[39m data\u001b[38;5;241m.\u001b[39mloc[data\u001b[38;5;241m.\u001b[39mindex \u001b[38;5;241m<\u001b[39m \u001b[38;5;124m'\u001b[39m\u001b[38;5;124m2008-05-24\u001b[39m\u001b[38;5;124m'\u001b[39m]\n",
      "File \u001b[1;32m~\\AppData\\Local\\anaconda3\\envs\\DataAnalytics\\Lib\\site-packages\\pandas\\core\\frame.py:3813\u001b[0m, in \u001b[0;36mDataFrame.__getitem__\u001b[1;34m(self, key)\u001b[0m\n\u001b[0;32m   3811\u001b[0m     \u001b[38;5;28;01mif\u001b[39;00m is_iterator(key):\n\u001b[0;32m   3812\u001b[0m         key \u001b[38;5;241m=\u001b[39m \u001b[38;5;28mlist\u001b[39m(key)\n\u001b[1;32m-> 3813\u001b[0m     indexer \u001b[38;5;241m=\u001b[39m \u001b[38;5;28mself\u001b[39m\u001b[38;5;241m.\u001b[39mcolumns\u001b[38;5;241m.\u001b[39m_get_indexer_strict(key, \u001b[38;5;124m\"\u001b[39m\u001b[38;5;124mcolumns\u001b[39m\u001b[38;5;124m\"\u001b[39m)[\u001b[38;5;241m1\u001b[39m]\n\u001b[0;32m   3815\u001b[0m \u001b[38;5;66;03m# take() does not accept boolean indexers\u001b[39;00m\n\u001b[0;32m   3816\u001b[0m \u001b[38;5;28;01mif\u001b[39;00m \u001b[38;5;28mgetattr\u001b[39m(indexer, \u001b[38;5;124m\"\u001b[39m\u001b[38;5;124mdtype\u001b[39m\u001b[38;5;124m\"\u001b[39m, \u001b[38;5;28;01mNone\u001b[39;00m) \u001b[38;5;241m==\u001b[39m \u001b[38;5;28mbool\u001b[39m:\n",
      "File \u001b[1;32m~\\AppData\\Local\\anaconda3\\envs\\DataAnalytics\\Lib\\site-packages\\pandas\\core\\indexes\\base.py:6070\u001b[0m, in \u001b[0;36mIndex._get_indexer_strict\u001b[1;34m(self, key, axis_name)\u001b[0m\n\u001b[0;32m   6067\u001b[0m \u001b[38;5;28;01melse\u001b[39;00m:\n\u001b[0;32m   6068\u001b[0m     keyarr, indexer, new_indexer \u001b[38;5;241m=\u001b[39m \u001b[38;5;28mself\u001b[39m\u001b[38;5;241m.\u001b[39m_reindex_non_unique(keyarr)\n\u001b[1;32m-> 6070\u001b[0m \u001b[38;5;28mself\u001b[39m\u001b[38;5;241m.\u001b[39m_raise_if_missing(keyarr, indexer, axis_name)\n\u001b[0;32m   6072\u001b[0m keyarr \u001b[38;5;241m=\u001b[39m \u001b[38;5;28mself\u001b[39m\u001b[38;5;241m.\u001b[39mtake(indexer)\n\u001b[0;32m   6073\u001b[0m \u001b[38;5;28;01mif\u001b[39;00m \u001b[38;5;28misinstance\u001b[39m(key, Index):\n\u001b[0;32m   6074\u001b[0m     \u001b[38;5;66;03m# GH 42790 - Preserve name from an Index\u001b[39;00m\n",
      "File \u001b[1;32m~\\AppData\\Local\\anaconda3\\envs\\DataAnalytics\\Lib\\site-packages\\pandas\\core\\indexes\\base.py:6133\u001b[0m, in \u001b[0;36mIndex._raise_if_missing\u001b[1;34m(self, key, indexer, axis_name)\u001b[0m\n\u001b[0;32m   6130\u001b[0m     \u001b[38;5;28;01mraise\u001b[39;00m \u001b[38;5;167;01mKeyError\u001b[39;00m(\u001b[38;5;124mf\u001b[39m\u001b[38;5;124m\"\u001b[39m\u001b[38;5;124mNone of [\u001b[39m\u001b[38;5;132;01m{\u001b[39;00mkey\u001b[38;5;132;01m}\u001b[39;00m\u001b[38;5;124m] are in the [\u001b[39m\u001b[38;5;132;01m{\u001b[39;00maxis_name\u001b[38;5;132;01m}\u001b[39;00m\u001b[38;5;124m]\u001b[39m\u001b[38;5;124m\"\u001b[39m)\n\u001b[0;32m   6132\u001b[0m not_found \u001b[38;5;241m=\u001b[39m \u001b[38;5;28mlist\u001b[39m(ensure_index(key)[missing_mask\u001b[38;5;241m.\u001b[39mnonzero()[\u001b[38;5;241m0\u001b[39m]]\u001b[38;5;241m.\u001b[39munique())\n\u001b[1;32m-> 6133\u001b[0m \u001b[38;5;28;01mraise\u001b[39;00m \u001b[38;5;167;01mKeyError\u001b[39;00m(\u001b[38;5;124mf\u001b[39m\u001b[38;5;124m\"\u001b[39m\u001b[38;5;132;01m{\u001b[39;00mnot_found\u001b[38;5;132;01m}\u001b[39;00m\u001b[38;5;124m not in index\u001b[39m\u001b[38;5;124m\"\u001b[39m)\n",
      "\u001b[1;31mKeyError\u001b[0m: \"['hour_sin', 'hour_cos'] not in index\""
     ]
    },
    {
     "name": "stdout",
     "output_type": "stream",
     "text": [
      "time: 2.45 s (started: 2023-06-30 14:45:24 +03:00)\n"
     ]
    }
   ],
   "source": [
    "data = data[['Traffic_Flow_178','3_hour_interval','weekend','hour_sin','hour_cos']]\n",
    "\n",
    "# define train data\n",
    "train = data.loc[data.index < '2008-05-24']\n",
    "\n",
    "# define test data\n",
    "test = data.loc[data.index >= '2008-05-24']\n",
    "\n",
    "print(\"Train set shape: \",train.shape)\n",
    "print(\"Test set shape: \",test.shape)"
   ]
  },
  {
   "cell_type": "code",
   "execution_count": null,
   "id": "03ffde51",
   "metadata": {},
   "outputs": [],
   "source": [
    "data"
   ]
  },
  {
   "cell_type": "markdown",
   "id": "67859f60",
   "metadata": {},
   "source": [
    "#### Scaling"
   ]
  },
  {
   "cell_type": "code",
   "execution_count": null,
   "id": "8ea82ca2",
   "metadata": {},
   "outputs": [],
   "source": [
    "# print dtypes\n",
    "data.dtypes"
   ]
  },
  {
   "cell_type": "code",
   "execution_count": null,
   "id": "f042b4be",
   "metadata": {},
   "outputs": [],
   "source": [
    "from sklearn.preprocessing import MinMaxScaler"
   ]
  },
  {
   "cell_type": "code",
   "execution_count": null,
   "id": "86b02539",
   "metadata": {},
   "outputs": [],
   "source": [
    "# Select only columns that denote traffic flow\n",
    "#traffic_flow_columns = data.filter(like='Traffic_Flow_')\n",
    "#traffic_flow_columns = data[['Traffic_Flow_1','hour','dayofweek','minute','day','hour_sin','hour_cos']]\n",
    "\n",
    "# select only columns that denote time\n",
    "#time = data[['hour','dayofweek','minute','day','hour_sin','hour_cos']]\n",
    "\n",
    "#features = pd.concat([traffic_flow_columns, time], axis=1)\n",
    "\n",
    "# Create a MinMaxScaler object\n",
    "scaler = MinMaxScaler()\n",
    "\n",
    "# Apply min-max scaling to the traffic flow  and time columns\n",
    "X = scaler.fit_transform(train)\n",
    "y = scaler.fit_transform(test)"
   ]
  },
  {
   "cell_type": "code",
   "execution_count": null,
   "id": "def0e3a1",
   "metadata": {},
   "outputs": [],
   "source": [
    "trainX = []\n",
    "trainY = []\n",
    "n_future = 1\n",
    "n_past = 4\n",
    "\n",
    "for i in range(n_past, len(X) - n_future +1):\n",
    "    trainX.append(X[i-n_past:i, 0:X.shape[1]])\n",
    "    trainY.append(X[i+n_future-1:i+n_future,0])\n",
    "    \n",
    "trainX, trainY = np.array(trainX), np.array(trainY)\n",
    "\n"
   ]
  },
  {
   "cell_type": "code",
   "execution_count": null,
   "id": "3ea4f34d",
   "metadata": {},
   "outputs": [],
   "source": [
    "testX = []\n",
    "testY = []\n",
    "n_future = 1\n",
    "n_past = 4\n",
    "\n",
    "for i in range(n_past, len(y) - n_future +1):\n",
    "    testX.append(y[i-n_past:i, 0:y.shape[1]])\n",
    "    testY.append(y[i+n_future-1:i+n_future,0])\n",
    "    \n",
    "testX, testY = np.array(testX), np.array(testY)"
   ]
  },
  {
   "cell_type": "markdown",
   "id": "309db6eb",
   "metadata": {},
   "source": [
    "#### Split the traffic flow information of each path to pairs (X,y)"
   ]
  },
  {
   "cell_type": "code",
   "execution_count": null,
   "id": "e27111ac",
   "metadata": {},
   "outputs": [],
   "source": [
    "from numpy import array\n",
    "# split a multivariate sequence into samples\n",
    "def split_sequences(sequences, n_steps):\n",
    "    X, y = list(), list()\n",
    "    for i in range(len(sequences)):\n",
    "        # find the end of this pattern\n",
    "        end_ix = i + n_steps\n",
    "        # check if we are beyond the dataset\n",
    "        if end_ix > len(sequences)-1:\n",
    "            break\n",
    "        \n",
    "        # gather input and output parts of the pattern\n",
    "        seq_x, seq_y = sequences[i:end_ix, :], sequences[end_ix, :]\n",
    "        \n",
    "        X.append(seq_x)\n",
    "        y.append(seq_y)\n",
    "        \n",
    "    return array(X), array(y)"
   ]
  },
  {
   "cell_type": "code",
   "execution_count": null,
   "id": "da03a497",
   "metadata": {},
   "outputs": [],
   "source": [
    "# choose a number of time steps\n",
    "#n_steps_in, n_steps_out = 8, 2\n",
    "\n",
    "# covert into input/output\n",
    "#X, y = split_sequences(features, n_steps_in)"
   ]
  },
  {
   "cell_type": "code",
   "execution_count": null,
   "id": "b63f9503",
   "metadata": {},
   "outputs": [],
   "source": [
    "# summarize the data\n",
    "for i in range(len(X)):\n",
    "    print(X[i], y[i])"
   ]
  },
  {
   "cell_type": "markdown",
   "id": "2f8ec226",
   "metadata": {},
   "source": [
    "#### Train - Test split"
   ]
  },
  {
   "cell_type": "code",
   "execution_count": null,
   "id": "3b54cbee",
   "metadata": {},
   "outputs": [],
   "source": [
    "#from sklearn.model_selection import train_test_split"
   ]
  },
  {
   "cell_type": "code",
   "execution_count": null,
   "id": "7d8a5241",
   "metadata": {},
   "outputs": [],
   "source": [
    "# Split into train and test sets\n",
    "#X_train, X_test, y_train, y_test = train_test_split(X, y, test_size=0.2, random_state=42, shuffle=False)"
   ]
  },
  {
   "cell_type": "code",
   "execution_count": 158,
   "id": "c18bf75b",
   "metadata": {},
   "outputs": [
    {
     "name": "stdout",
     "output_type": "stream",
     "text": [
      "time: 0 ns (started: 2023-06-30 14:45:27 +03:00)\n"
     ]
    }
   ],
   "source": [
    "#X_train.shape, y_train.shape, X_test.shape, y_test.shape"
   ]
  },
  {
   "cell_type": "markdown",
   "id": "1450d6a2",
   "metadata": {},
   "source": [
    "### Define an LSTM model for forecast"
   ]
  },
  {
   "cell_type": "code",
   "execution_count": 159,
   "id": "3a6a9357",
   "metadata": {},
   "outputs": [
    {
     "name": "stdout",
     "output_type": "stream",
     "text": [
      "time: 0 ns (started: 2023-06-30 14:45:28 +03:00)\n"
     ]
    }
   ],
   "source": [
    "from keras.models import Sequential\n",
    "from keras.layers import LSTM\n",
    "from keras.layers import Dense\n",
    "from keras.layers import RepeatVector\n",
    "from keras.layers import TimeDistributed\n",
    "from tensorflow.keras.callbacks import EarlyStopping\n",
    "from tensorflow.keras.layers import Dropout\n",
    "import tensorflow as tf"
   ]
  },
  {
   "cell_type": "markdown",
   "id": "cd2378c7",
   "metadata": {},
   "source": [
    "#### Create and compile the model"
   ]
  },
  {
   "cell_type": "code",
   "execution_count": 152,
   "id": "b7159a8b",
   "metadata": {},
   "outputs": [
    {
     "name": "stdout",
     "output_type": "stream",
     "text": [
      "time: 0 ns (started: 2023-06-30 14:44:42 +03:00)\n"
     ]
    }
   ],
   "source": [
    "# the model knows the number of features\n",
    "#n_features = X_train.shape[2]"
   ]
  },
  {
   "cell_type": "code",
   "execution_count": 167,
   "id": "9eba2157",
   "metadata": {},
   "outputs": [
    {
     "name": "stdout",
     "output_type": "stream",
     "text": [
      "time: 312 ms (started: 2023-06-30 15:18:06 +03:00)\n"
     ]
    }
   ],
   "source": [
    "# Define model\n",
    "model = Sequential()\n",
    "model.add(LSTM(300, activation='relu', return_sequences=True, input_shape=(trainX.shape[1], trainX.shape[2])))\n",
    "model.add(Dropout(0.2))  # Add dropout to the first LSTM layer\n",
    "model.add(LSTM(150, activation='relu'))\n",
    "model.add(Dropout(0.2))  # Add dropout to the second LSTM layer\n",
    "model.add(Dense(trainY.shape[1]))\n",
    "\n",
    "# Add early stopping\n",
    "early_stopping = EarlyStopping(patience=50, monitor='val_loss', restore_best_weights=True)"
   ]
  },
  {
   "cell_type": "code",
   "execution_count": 168,
   "id": "1b8e2f6c",
   "metadata": {},
   "outputs": [
    {
     "name": "stdout",
     "output_type": "stream",
     "text": [
      "time: 16 ms (started: 2023-06-30 15:18:07 +03:00)\n"
     ]
    }
   ],
   "source": [
    "# compile model\n",
    "model.compile(optimizer='adam', loss='mse')"
   ]
  },
  {
   "cell_type": "code",
   "execution_count": 169,
   "id": "1e41b5eb",
   "metadata": {},
   "outputs": [
    {
     "data": {
      "text/plain": [
       "((284, 4, 3), (284, 1), (44, 4, 3), (44, 1))"
      ]
     },
     "execution_count": 169,
     "metadata": {},
     "output_type": "execute_result"
    },
    {
     "name": "stdout",
     "output_type": "stream",
     "text": [
      "time: 16 ms (started: 2023-06-30 15:18:07 +03:00)\n"
     ]
    }
   ],
   "source": [
    "trainX.shape, trainY.shape, testX.shape, testY.shape"
   ]
  },
  {
   "cell_type": "markdown",
   "id": "24bedb11",
   "metadata": {},
   "source": [
    "#### Train the model"
   ]
  },
  {
   "cell_type": "code",
   "execution_count": 170,
   "id": "fe98251c",
   "metadata": {},
   "outputs": [
    {
     "name": "stdout",
     "output_type": "stream",
     "text": [
      "Epoch 1/400\n",
      "9/9 [==============================] - 4s 104ms/step - loss: 0.0631 - val_loss: 0.0512\n",
      "Epoch 2/400\n",
      "9/9 [==============================] - 0s 48ms/step - loss: 0.0416 - val_loss: 0.0492\n",
      "Epoch 3/400\n",
      "9/9 [==============================] - 0s 50ms/step - loss: 0.0345 - val_loss: 0.0417\n",
      "Epoch 4/400\n",
      "9/9 [==============================] - 0s 46ms/step - loss: 0.0323 - val_loss: 0.0418\n",
      "Epoch 5/400\n",
      "9/9 [==============================] - 0s 50ms/step - loss: 0.0321 - val_loss: 0.0426\n",
      "Epoch 6/400\n",
      "9/9 [==============================] - 0s 49ms/step - loss: 0.0313 - val_loss: 0.0409\n",
      "Epoch 7/400\n",
      "9/9 [==============================] - 0s 53ms/step - loss: 0.0296 - val_loss: 0.0406\n",
      "Epoch 8/400\n",
      "9/9 [==============================] - 1s 59ms/step - loss: 0.0295 - val_loss: 0.0383\n",
      "Epoch 9/400\n",
      "9/9 [==============================] - 0s 55ms/step - loss: 0.0289 - val_loss: 0.0387\n",
      "Epoch 10/400\n",
      "9/9 [==============================] - 0s 50ms/step - loss: 0.0279 - val_loss: 0.0367\n",
      "Epoch 11/400\n",
      "9/9 [==============================] - 0s 49ms/step - loss: 0.0266 - val_loss: 0.0362\n",
      "Epoch 12/400\n",
      "9/9 [==============================] - 0s 48ms/step - loss: 0.0267 - val_loss: 0.0338\n",
      "Epoch 13/400\n",
      "9/9 [==============================] - 0s 47ms/step - loss: 0.0252 - val_loss: 0.0331\n",
      "Epoch 14/400\n",
      "9/9 [==============================] - 0s 48ms/step - loss: 0.0239 - val_loss: 0.0307\n",
      "Epoch 15/400\n",
      "9/9 [==============================] - 0s 47ms/step - loss: 0.0228 - val_loss: 0.0301\n",
      "Epoch 16/400\n",
      "9/9 [==============================] - 0s 50ms/step - loss: 0.0217 - val_loss: 0.0281\n",
      "Epoch 17/400\n",
      "9/9 [==============================] - 0s 56ms/step - loss: 0.0217 - val_loss: 0.0274\n",
      "Epoch 18/400\n",
      "9/9 [==============================] - 0s 49ms/step - loss: 0.0224 - val_loss: 0.0383\n",
      "Epoch 19/400\n",
      "9/9 [==============================] - 0s 55ms/step - loss: 0.0240 - val_loss: 0.0265\n",
      "Epoch 20/400\n",
      "9/9 [==============================] - 0s 48ms/step - loss: 0.0227 - val_loss: 0.0255\n",
      "Epoch 21/400\n",
      "9/9 [==============================] - 0s 47ms/step - loss: 0.0237 - val_loss: 0.0321\n",
      "Epoch 22/400\n",
      "9/9 [==============================] - 0s 48ms/step - loss: 0.0232 - val_loss: 0.0249\n",
      "Epoch 23/400\n",
      "9/9 [==============================] - 0s 54ms/step - loss: 0.0197 - val_loss: 0.0262\n",
      "Epoch 24/400\n",
      "9/9 [==============================] - 1s 58ms/step - loss: 0.0186 - val_loss: 0.0238\n",
      "Epoch 25/400\n",
      "9/9 [==============================] - 0s 51ms/step - loss: 0.0192 - val_loss: 0.0270\n",
      "Epoch 26/400\n",
      "9/9 [==============================] - 0s 48ms/step - loss: 0.0186 - val_loss: 0.0233\n",
      "Epoch 27/400\n",
      "9/9 [==============================] - 0s 52ms/step - loss: 0.0183 - val_loss: 0.0240\n",
      "Epoch 28/400\n",
      "9/9 [==============================] - 0s 50ms/step - loss: 0.0203 - val_loss: 0.0257\n",
      "Epoch 29/400\n",
      "9/9 [==============================] - 0s 53ms/step - loss: 0.0189 - val_loss: 0.0233\n",
      "Epoch 30/400\n",
      "9/9 [==============================] - 0s 51ms/step - loss: 0.0179 - val_loss: 0.0262\n",
      "Epoch 31/400\n",
      "9/9 [==============================] - 0s 52ms/step - loss: 0.0195 - val_loss: 0.0233\n",
      "Epoch 32/400\n",
      "9/9 [==============================] - 0s 53ms/step - loss: 0.0193 - val_loss: 0.0228\n",
      "Epoch 33/400\n",
      "9/9 [==============================] - 1s 62ms/step - loss: 0.0184 - val_loss: 0.0231\n",
      "Epoch 34/400\n",
      "9/9 [==============================] - 1s 57ms/step - loss: 0.0168 - val_loss: 0.0232\n",
      "Epoch 35/400\n",
      "9/9 [==============================] - 0s 49ms/step - loss: 0.0176 - val_loss: 0.0234\n",
      "Epoch 36/400\n",
      "9/9 [==============================] - 0s 51ms/step - loss: 0.0170 - val_loss: 0.0223\n",
      "Epoch 37/400\n",
      "9/9 [==============================] - 0s 50ms/step - loss: 0.0165 - val_loss: 0.0235\n",
      "Epoch 38/400\n",
      "9/9 [==============================] - 1s 57ms/step - loss: 0.0174 - val_loss: 0.0308\n",
      "Epoch 39/400\n",
      "9/9 [==============================] - 0s 48ms/step - loss: 0.0192 - val_loss: 0.0220\n",
      "Epoch 40/400\n",
      "9/9 [==============================] - 0s 54ms/step - loss: 0.0166 - val_loss: 0.0239\n",
      "Epoch 41/400\n",
      "9/9 [==============================] - 0s 50ms/step - loss: 0.0177 - val_loss: 0.0228\n",
      "Epoch 42/400\n",
      "9/9 [==============================] - 1s 56ms/step - loss: 0.0158 - val_loss: 0.0239\n",
      "Epoch 43/400\n",
      "9/9 [==============================] - 0s 47ms/step - loss: 0.0165 - val_loss: 0.0231\n",
      "Epoch 44/400\n",
      "9/9 [==============================] - 0s 49ms/step - loss: 0.0163 - val_loss: 0.0229\n",
      "Epoch 45/400\n",
      "9/9 [==============================] - 0s 48ms/step - loss: 0.0164 - val_loss: 0.0247\n",
      "Epoch 46/400\n",
      "9/9 [==============================] - 0s 49ms/step - loss: 0.0159 - val_loss: 0.0228\n",
      "Epoch 47/400\n",
      "9/9 [==============================] - 0s 47ms/step - loss: 0.0156 - val_loss: 0.0226\n",
      "Epoch 48/400\n",
      "9/9 [==============================] - 0s 48ms/step - loss: 0.0155 - val_loss: 0.0229\n",
      "Epoch 49/400\n",
      "9/9 [==============================] - 0s 48ms/step - loss: 0.0149 - val_loss: 0.0240\n",
      "Epoch 50/400\n",
      "9/9 [==============================] - 0s 47ms/step - loss: 0.0148 - val_loss: 0.0235\n",
      "Epoch 51/400\n",
      "9/9 [==============================] - 0s 54ms/step - loss: 0.0163 - val_loss: 0.0255\n",
      "Epoch 52/400\n",
      "9/9 [==============================] - 0s 47ms/step - loss: 0.0157 - val_loss: 0.0256\n",
      "Epoch 53/400\n",
      "9/9 [==============================] - 0s 48ms/step - loss: 0.0168 - val_loss: 0.0229\n",
      "Epoch 54/400\n",
      "9/9 [==============================] - 0s 45ms/step - loss: 0.0159 - val_loss: 0.0245\n",
      "Epoch 55/400\n",
      "9/9 [==============================] - 0s 47ms/step - loss: 0.0145 - val_loss: 0.0246\n",
      "Epoch 56/400\n",
      "9/9 [==============================] - 0s 46ms/step - loss: 0.0144 - val_loss: 0.0243\n",
      "Epoch 57/400\n",
      "9/9 [==============================] - 0s 45ms/step - loss: 0.0135 - val_loss: 0.0249\n",
      "Epoch 58/400\n",
      "9/9 [==============================] - 0s 48ms/step - loss: 0.0148 - val_loss: 0.0247\n",
      "Epoch 59/400\n",
      "9/9 [==============================] - 0s 46ms/step - loss: 0.0137 - val_loss: 0.0243\n",
      "Epoch 60/400\n",
      "9/9 [==============================] - 0s 49ms/step - loss: 0.0143 - val_loss: 0.0281\n",
      "Epoch 61/400\n",
      "9/9 [==============================] - 0s 46ms/step - loss: 0.0135 - val_loss: 0.0254\n",
      "Epoch 62/400\n",
      "9/9 [==============================] - 0s 47ms/step - loss: 0.0143 - val_loss: 0.0268\n",
      "Epoch 63/400\n",
      "9/9 [==============================] - 0s 48ms/step - loss: 0.0136 - val_loss: 0.0262\n",
      "Epoch 64/400\n",
      "9/9 [==============================] - 0s 45ms/step - loss: 0.0135 - val_loss: 0.0257\n",
      "Epoch 65/400\n",
      "9/9 [==============================] - 0s 48ms/step - loss: 0.0124 - val_loss: 0.0262\n",
      "Epoch 66/400\n",
      "9/9 [==============================] - 0s 45ms/step - loss: 0.0121 - val_loss: 0.0257\n",
      "Epoch 67/400\n",
      "9/9 [==============================] - 0s 48ms/step - loss: 0.0128 - val_loss: 0.0281\n",
      "Epoch 68/400\n",
      "9/9 [==============================] - 0s 46ms/step - loss: 0.0127 - val_loss: 0.0259\n",
      "Epoch 69/400\n",
      "9/9 [==============================] - 0s 45ms/step - loss: 0.0126 - val_loss: 0.0271\n",
      "Epoch 70/400\n",
      "9/9 [==============================] - 0s 52ms/step - loss: 0.0118 - val_loss: 0.0269\n",
      "Epoch 71/400\n",
      "9/9 [==============================] - 0s 45ms/step - loss: 0.0134 - val_loss: 0.0263\n",
      "Epoch 72/400\n",
      "9/9 [==============================] - 0s 51ms/step - loss: 0.0122 - val_loss: 0.0280\n",
      "Epoch 73/400\n",
      "9/9 [==============================] - 1s 62ms/step - loss: 0.0116 - val_loss: 0.0261\n",
      "Epoch 74/400\n",
      "9/9 [==============================] - 1s 59ms/step - loss: 0.0122 - val_loss: 0.0275\n",
      "Epoch 75/400\n",
      "9/9 [==============================] - 0s 55ms/step - loss: 0.0129 - val_loss: 0.0302\n",
      "Epoch 76/400\n",
      "9/9 [==============================] - 0s 54ms/step - loss: 0.0127 - val_loss: 0.0275\n",
      "Epoch 77/400\n",
      "9/9 [==============================] - 0s 54ms/step - loss: 0.0121 - val_loss: 0.0270\n",
      "Epoch 78/400\n",
      "9/9 [==============================] - 0s 55ms/step - loss: 0.0132 - val_loss: 0.0295\n",
      "Epoch 79/400\n",
      "9/9 [==============================] - 0s 51ms/step - loss: 0.0130 - val_loss: 0.0287\n",
      "Epoch 80/400\n",
      "9/9 [==============================] - 0s 48ms/step - loss: 0.0124 - val_loss: 0.0339\n",
      "Epoch 81/400\n",
      "9/9 [==============================] - 0s 54ms/step - loss: 0.0126 - val_loss: 0.0284\n",
      "Epoch 82/400\n",
      "9/9 [==============================] - 1s 78ms/step - loss: 0.0131 - val_loss: 0.0296\n",
      "Epoch 83/400\n",
      "9/9 [==============================] - 1s 63ms/step - loss: 0.0124 - val_loss: 0.0285\n"
     ]
    },
    {
     "name": "stdout",
     "output_type": "stream",
     "text": [
      "Epoch 84/400\n",
      "9/9 [==============================] - 1s 59ms/step - loss: 0.0113 - val_loss: 0.0279\n",
      "Epoch 85/400\n",
      "9/9 [==============================] - 1s 71ms/step - loss: 0.0109 - val_loss: 0.0282\n",
      "Epoch 86/400\n",
      "9/9 [==============================] - 1s 75ms/step - loss: 0.0123 - val_loss: 0.0289\n",
      "Epoch 87/400\n",
      "9/9 [==============================] - 1s 69ms/step - loss: 0.0109 - val_loss: 0.0292\n",
      "Epoch 88/400\n",
      "9/9 [==============================] - 1s 69ms/step - loss: 0.0118 - val_loss: 0.0281\n",
      "Epoch 89/400\n",
      "9/9 [==============================] - 1s 59ms/step - loss: 0.0112 - val_loss: 0.0280\n"
     ]
    },
    {
     "data": {
      "text/plain": [
       "<keras.callbacks.History at 0x23f54fa6d10>"
      ]
     },
     "execution_count": 170,
     "metadata": {},
     "output_type": "execute_result"
    },
    {
     "name": "stdout",
     "output_type": "stream",
     "text": [
      "time: 45.6 s (started: 2023-06-30 15:18:08 +03:00)\n"
     ]
    }
   ],
   "source": [
    "# fit model on training data\n",
    "model.fit(trainX, trainY, epochs=400, validation_data=(testX,testY), verbose=1, callbacks=[early_stopping])"
   ]
  },
  {
   "cell_type": "code",
   "execution_count": 160,
   "id": "8d7a357b",
   "metadata": {},
   "outputs": [
    {
     "name": "stdout",
     "output_type": "stream",
     "text": [
      "2/2 [==============================] - 0s 10ms/step - loss: 0.0229\n",
      "Test Loss: 0.02287701889872551\n",
      "time: 125 ms (started: 2023-06-30 14:45:35 +03:00)\n"
     ]
    }
   ],
   "source": [
    "# evaluate model on test data\n",
    "loss = model.evaluate(testX, testY)\n",
    "print(\"Test Loss:\", loss)"
   ]
  },
  {
   "cell_type": "markdown",
   "id": "ec26a0bc",
   "metadata": {},
   "source": [
    "#### Predictions"
   ]
  },
  {
   "cell_type": "code",
   "execution_count": 161,
   "id": "bdc16b56",
   "metadata": {},
   "outputs": [
    {
     "name": "stdout",
     "output_type": "stream",
     "text": [
      "2/2 [==============================] - 0s 8ms/step\n",
      "time: 468 ms (started: 2023-06-30 14:45:36 +03:00)\n"
     ]
    }
   ],
   "source": [
    "# predict on test data\n",
    "predictions = model.predict(testX)"
   ]
  },
  {
   "cell_type": "code",
   "execution_count": 162,
   "id": "4a3d49ed",
   "metadata": {},
   "outputs": [
    {
     "data": {
      "text/plain": [
       "[<matplotlib.lines.Line2D at 0x23f54ec1650>]"
      ]
     },
     "execution_count": 162,
     "metadata": {},
     "output_type": "execute_result"
    },
    {
     "data": {
      "image/png": "[encoded data removed]",
      "text/plain": [
       "<Figure size 1080x360 with 1 Axes>"
      ]
     },
     "metadata": {
      "needs_background": "light"
     },
     "output_type": "display_data"
    },
    {
     "name": "stdout",
     "output_type": "stream",
     "text": [
      "time: 234 ms (started: 2023-06-30 14:45:36 +03:00)\n"
     ]
    }
   ],
   "source": [
    "plt.figure(figsize=(15,5))\n",
    "plt.plot(testY, color='blue', alpha=0.7, label='Actual')\n",
    "plt.plot(predictions, color='orange', alpha=1, label='Predicted')"
   ]
  },
  {
   "cell_type": "code",
   "execution_count": null,
   "id": "5b159507",
   "metadata": {},
   "outputs": [],
   "source": []
  },
  {
   "cell_type": "code",
   "execution_count": null,
   "id": "cd5b96e3",
   "metadata": {},
   "outputs": [],
   "source": []
  }
 ],
 "metadata": {
  "kernelspec": {
   "display_name": "DataAnalytics",
   "language": "python",
   "name": "dataanalytics"
  },
  "language_info": {
   "codemirror_mode": {
    "name": "ipython",
    "version": 3
   },
   "file_extension": ".py",
   "mimetype": "text/x-python",
   "name": "python",
   "nbconvert_exporter": "python",
   "pygments_lexer": "ipython3",
   "version": "3.11.3"
  }
 },
 "nbformat": 4,
 "nbformat_minor": 5
}
